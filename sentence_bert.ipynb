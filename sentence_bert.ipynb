{
  "cells": [
    {
      "cell_type": "code",
      "execution_count": 21,
      "metadata": {
        "colab": {
          "base_uri": "https://localhost:8080/"
        },
        "id": "BlP0vi1LpL4F",
        "outputId": "5dae68d9-0b5b-42a7-88b8-4000aaa8dac4"
      },
      "outputs": [],
      "source": [
        "import torch\n",
        "from sentence_transformers import SentenceTransformer\n",
        "from sklearn.metrics.pairwise import cosine_similarity\n",
        "emb_model = SentenceTransformer('KR-SBERT/KR-SBERT-V40K-klueNLI-augSTS')\n",
        "\n",
        "# Tokenize input texts\n",
        "# texts = [\n",
        "#     \"저기 스케이트보드를 타는 학생이 있다.\",\n",
        "#     \"한 남자가 스케이트보드를 탄다.\",\n",
        "#     \"할아버지가 식사를 하신다.\"\n",
        "# ]\n",
        "\n",
        "# vectors = model.encode(texts)\n",
        "# similarities = cosine_similarity(vectors)\n",
        "# print(\"Cosine similarity between \\\"%s\\\" and \\\"%s\\\" is: %.3f\" % (texts[0], texts[1], similarities[0][1]))\n",
        "# print(\"Cosine similarity between \\\"%s\\\" and \\\"%s\\\" is: %.3f\" % (texts[0], texts[2], similarities[0][2]))"
      ]
    },
    {
      "cell_type": "markdown",
      "metadata": {
        "id": "xZ0etM0xtfZ4"
      },
      "source": [
        "# 감성 분석 과정\n",
        "0. 데이터를 다운 받는다\n",
        "1. document랑 label을 분리한다.\n",
        "2. document를 모델에 넣어서 임베딩 벡터로 바꾼다.\n",
        "3. 신경망 모델을 만든다.\n",
        " 모델로 데이터를 모두 임베딩을 한다."
      ]
    },
    {
      "cell_type": "code",
      "execution_count": 2,
      "metadata": {
        "id": "pi-Mz9ZvwKrI"
      },
      "outputs": [],
      "source": [
        "import pandas as pd"
      ]
    },
    {
      "cell_type": "code",
      "execution_count": 3,
      "metadata": {
        "colab": {
          "base_uri": "https://localhost:8080/",
          "height": 202
        },
        "id": "EP30CaOgv4zB",
        "outputId": "42e30713-9d42-4aaa-92d6-3abe1e9aed5e"
      },
      "outputs": [
        {
          "data": {
            "text/html": [
              "<div>\n",
              "<style scoped>\n",
              "    .dataframe tbody tr th:only-of-type {\n",
              "        vertical-align: middle;\n",
              "    }\n",
              "\n",
              "    .dataframe tbody tr th {\n",
              "        vertical-align: top;\n",
              "    }\n",
              "\n",
              "    .dataframe thead th {\n",
              "        text-align: right;\n",
              "    }\n",
              "</style>\n",
              "<table border=\"1\" class=\"dataframe\">\n",
              "  <thead>\n",
              "    <tr style=\"text-align: right;\">\n",
              "      <th></th>\n",
              "      <th>id</th>\n",
              "      <th>document</th>\n",
              "      <th>label</th>\n",
              "    </tr>\n",
              "  </thead>\n",
              "  <tbody>\n",
              "    <tr>\n",
              "      <th>0</th>\n",
              "      <td>9976970</td>\n",
              "      <td>아 더빙.. 진짜 짜증나네요 목소리</td>\n",
              "      <td>0</td>\n",
              "    </tr>\n",
              "    <tr>\n",
              "      <th>1</th>\n",
              "      <td>3819312</td>\n",
              "      <td>흠...포스터보고 초딩영화줄....오버연기조차 가볍지 않구나</td>\n",
              "      <td>1</td>\n",
              "    </tr>\n",
              "    <tr>\n",
              "      <th>2</th>\n",
              "      <td>10265843</td>\n",
              "      <td>너무재밓었다그래서보는것을추천한다</td>\n",
              "      <td>0</td>\n",
              "    </tr>\n",
              "    <tr>\n",
              "      <th>3</th>\n",
              "      <td>9045019</td>\n",
              "      <td>교도소 이야기구먼 ..솔직히 재미는 없다..평점 조정</td>\n",
              "      <td>0</td>\n",
              "    </tr>\n",
              "    <tr>\n",
              "      <th>4</th>\n",
              "      <td>6483659</td>\n",
              "      <td>사이몬페그의 익살스런 연기가 돋보였던 영화!스파이더맨에서 늙어보이기만 했던 커스틴 ...</td>\n",
              "      <td>1</td>\n",
              "    </tr>\n",
              "  </tbody>\n",
              "</table>\n",
              "</div>"
            ],
            "text/plain": [
              "         id                                           document  label\n",
              "0   9976970                                아 더빙.. 진짜 짜증나네요 목소리      0\n",
              "1   3819312                  흠...포스터보고 초딩영화줄....오버연기조차 가볍지 않구나      1\n",
              "2  10265843                                  너무재밓었다그래서보는것을추천한다      0\n",
              "3   9045019                      교도소 이야기구먼 ..솔직히 재미는 없다..평점 조정      0\n",
              "4   6483659  사이몬페그의 익살스런 연기가 돋보였던 영화!스파이더맨에서 늙어보이기만 했던 커스틴 ...      1"
            ]
          },
          "execution_count": 3,
          "metadata": {},
          "output_type": "execute_result"
        }
      ],
      "source": [
        "PATH = './nsmc/'\n",
        "ratings_train = pd.read_table(PATH + 'ratings_train.txt') \n",
        "ratings_train.head()"
      ]
    },
    {
      "cell_type": "code",
      "execution_count": 4,
      "metadata": {
        "colab": {
          "base_uri": "https://localhost:8080/",
          "height": 202
        },
        "id": "XtYqASZi1TYi",
        "outputId": "4aff5091-bec7-4497-871f-8a9ec46ec0cc"
      },
      "outputs": [
        {
          "data": {
            "text/html": [
              "<div>\n",
              "<style scoped>\n",
              "    .dataframe tbody tr th:only-of-type {\n",
              "        vertical-align: middle;\n",
              "    }\n",
              "\n",
              "    .dataframe tbody tr th {\n",
              "        vertical-align: top;\n",
              "    }\n",
              "\n",
              "    .dataframe thead th {\n",
              "        text-align: right;\n",
              "    }\n",
              "</style>\n",
              "<table border=\"1\" class=\"dataframe\">\n",
              "  <thead>\n",
              "    <tr style=\"text-align: right;\">\n",
              "      <th></th>\n",
              "      <th>id</th>\n",
              "      <th>document</th>\n",
              "      <th>label</th>\n",
              "    </tr>\n",
              "  </thead>\n",
              "  <tbody>\n",
              "    <tr>\n",
              "      <th>0</th>\n",
              "      <td>6270596</td>\n",
              "      <td>굳 ㅋ</td>\n",
              "      <td>1</td>\n",
              "    </tr>\n",
              "    <tr>\n",
              "      <th>1</th>\n",
              "      <td>9274899</td>\n",
              "      <td>GDNTOPCLASSINTHECLUB</td>\n",
              "      <td>0</td>\n",
              "    </tr>\n",
              "    <tr>\n",
              "      <th>2</th>\n",
              "      <td>8544678</td>\n",
              "      <td>뭐야 이 평점들은.... 나쁘진 않지만 10점 짜리는 더더욱 아니잖아</td>\n",
              "      <td>0</td>\n",
              "    </tr>\n",
              "    <tr>\n",
              "      <th>3</th>\n",
              "      <td>6825595</td>\n",
              "      <td>지루하지는 않은데 완전 막장임... 돈주고 보기에는....</td>\n",
              "      <td>0</td>\n",
              "    </tr>\n",
              "    <tr>\n",
              "      <th>4</th>\n",
              "      <td>6723715</td>\n",
              "      <td>3D만 아니었어도 별 다섯 개 줬을텐데.. 왜 3D로 나와서 제 심기를 불편하게 하죠??</td>\n",
              "      <td>0</td>\n",
              "    </tr>\n",
              "  </tbody>\n",
              "</table>\n",
              "</div>"
            ],
            "text/plain": [
              "        id                                           document  label\n",
              "0  6270596                                                굳 ㅋ      1\n",
              "1  9274899                               GDNTOPCLASSINTHECLUB      0\n",
              "2  8544678             뭐야 이 평점들은.... 나쁘진 않지만 10점 짜리는 더더욱 아니잖아      0\n",
              "3  6825595                   지루하지는 않은데 완전 막장임... 돈주고 보기에는....      0\n",
              "4  6723715  3D만 아니었어도 별 다섯 개 줬을텐데.. 왜 3D로 나와서 제 심기를 불편하게 하죠??      0"
            ]
          },
          "execution_count": 4,
          "metadata": {},
          "output_type": "execute_result"
        }
      ],
      "source": [
        "ratings_test = pd.read_table(PATH + 'ratings_test.txt') \n",
        "ratings_test.head()"
      ]
    },
    {
      "cell_type": "code",
      "execution_count": 5,
      "metadata": {
        "id": "HBP83PEMZvmL"
      },
      "outputs": [],
      "source": [
        "import re\n",
        "import emoji\n",
        "from soynlp.normalizer import repeat_normalize\n",
        "\n",
        "emojis = ''.join(emoji.UNICODE_EMOJI.keys())\n",
        "pattern = re.compile(f'[^ .,?!/@$%~％·∼()\\x00-\\x7Fㄱ-ㅣ가-힣{emojis}]+')\n",
        "url_pattern = re.compile(\n",
        "    r'https?:\\/\\/(www\\.)?[-a-zA-Z0-9@:%._\\+~#=]{1,256}\\.[a-zA-Z0-9()]{1,6}\\b([-a-zA-Z0-9()@:%_\\+.~#?&//=]*)')\n",
        "\n",
        "def clean(x):\n",
        "    x = pattern.sub(' ', x)\n",
        "    x = url_pattern.sub('', x)\n",
        "    x = x.strip()\n",
        "    x = repeat_normalize(x, num_repeats=2)\n",
        "    return x"
      ]
    },
    {
      "cell_type": "code",
      "execution_count": 6,
      "metadata": {
        "colab": {
          "base_uri": "https://localhost:8080/"
        },
        "id": "CuC4IvMiaMPN",
        "outputId": "caa53f1c-b7bf-4c2b-e87c-eb6e02738c05"
      },
      "outputs": [
        {
          "data": {
            "text/plain": [
              "0                                  아 더빙.. 진짜 짜증나네요 목소리\n",
              "1                    흠...포스터보고 초딩영화줄....오버연기조차 가볍지 않구나\n",
              "2                                    너무재밓었다그래서보는것을추천한다\n",
              "3                        교도소 이야기구먼 ..솔직히 재미는 없다..평점 조정\n",
              "4    사이몬페그의 익살스런 연기가 돋보였던 영화!스파이더맨에서 늙어보이기만 했던 커스틴 ...\n",
              "Name: document, dtype: object"
            ]
          },
          "execution_count": 6,
          "metadata": {},
          "output_type": "execute_result"
        }
      ],
      "source": [
        "ratings_train['document'][:5]"
      ]
    },
    {
      "cell_type": "code",
      "execution_count": 7,
      "metadata": {
        "id": "bWSGk4SCbI9s"
      },
      "outputs": [],
      "source": [
        "train_copy = ratings_train.copy()\n",
        "test_copy = ratings_test.copy()"
      ]
    },
    {
      "cell_type": "code",
      "execution_count": 8,
      "metadata": {
        "colab": {
          "base_uri": "https://localhost:8080/"
        },
        "id": "wclLsjydcJqa",
        "outputId": "2c556e4c-f5a3-47b3-f5e5-3e8621906792"
      },
      "outputs": [
        {
          "name": "stdout",
          "output_type": "stream",
          "text": [
            "<class 'pandas.core.frame.DataFrame'>\n",
            "RangeIndex: 150000 entries, 0 to 149999\n",
            "Data columns (total 3 columns):\n",
            " #   Column    Non-Null Count   Dtype \n",
            "---  ------    --------------   ----- \n",
            " 0   id        150000 non-null  int64 \n",
            " 1   document  149995 non-null  object\n",
            " 2   label     150000 non-null  int64 \n",
            "dtypes: int64(2), object(1)\n",
            "memory usage: 3.4+ MB\n"
          ]
        }
      ],
      "source": [
        "train_copy.info()"
      ]
    },
    {
      "cell_type": "code",
      "execution_count": 9,
      "metadata": {
        "id": "WY5iwUDrcqry"
      },
      "outputs": [],
      "source": [
        "train_copy=train_copy.dropna(axis=0).reset_index(drop=True)\n",
        "test_copy=test_copy.dropna(axis=0).reset_index(drop=True)"
      ]
    },
    {
      "cell_type": "code",
      "execution_count": 10,
      "metadata": {
        "colab": {
          "base_uri": "https://localhost:8080/"
        },
        "id": "XfOOKs-vcw4a",
        "outputId": "0f546ba7-cbd3-48ef-ec02-dac4568bbd1c"
      },
      "outputs": [
        {
          "name": "stdout",
          "output_type": "stream",
          "text": [
            "<class 'pandas.core.frame.DataFrame'>\n",
            "RangeIndex: 149995 entries, 0 to 149994\n",
            "Data columns (total 3 columns):\n",
            " #   Column    Non-Null Count   Dtype \n",
            "---  ------    --------------   ----- \n",
            " 0   id        149995 non-null  int64 \n",
            " 1   document  149995 non-null  object\n",
            " 2   label     149995 non-null  int64 \n",
            "dtypes: int64(2), object(1)\n",
            "memory usage: 3.4+ MB\n"
          ]
        }
      ],
      "source": [
        "train_copy.info()"
      ]
    },
    {
      "cell_type": "code",
      "execution_count": 11,
      "metadata": {
        "colab": {
          "base_uri": "https://localhost:8080/"
        },
        "id": "_6ohh1zhdBT-",
        "outputId": "0fb75f8d-224d-43a3-91c3-e802cd133ced"
      },
      "outputs": [
        {
          "data": {
            "text/plain": [
              "RangeIndex(start=0, stop=149995, step=1)"
            ]
          },
          "execution_count": 11,
          "metadata": {},
          "output_type": "execute_result"
        }
      ],
      "source": [
        "train_copy.index"
      ]
    },
    {
      "cell_type": "code",
      "execution_count": 12,
      "metadata": {
        "colab": {
          "base_uri": "https://localhost:8080/"
        },
        "id": "uYxGAtiQZ0Vb",
        "outputId": "a5449f17-3509-410d-e79c-73d6b925df1c"
      },
      "outputs": [
        {
          "name": "stderr",
          "output_type": "stream",
          "text": [
            "100%|██████████| 149995/149995 [00:01<00:00, 94051.48it/s]\n"
          ]
        }
      ],
      "source": [
        "from tqdm import tqdm\n",
        "for i in tqdm(range(len(train_copy))):\n",
        "  try:\n",
        "    train_copy.at[i, 'document'] = clean(train_copy.at[i, 'document'])\n",
        "  except KeyError as e:\n",
        "    print(e)\n",
        "    print(train_copy.at[i, 'document'])  "
      ]
    },
    {
      "cell_type": "code",
      "execution_count": 13,
      "metadata": {
        "colab": {
          "base_uri": "https://localhost:8080/",
          "height": 34
        },
        "id": "qBYxQ74yepSe",
        "outputId": "090618e7-b7d3-4f54-c735-957ad7de59a6"
      },
      "outputs": [
        {
          "data": {
            "text/plain": [
              "'지금 봐도 모자람이 없게 느껴지는 연출과 그래픽. 15년 대장정의 멋진 시작!'"
            ]
          },
          "execution_count": 13,
          "metadata": {},
          "output_type": "execute_result"
        }
      ],
      "source": [
        "test_copy.at[5746, 'document']"
      ]
    },
    {
      "cell_type": "code",
      "execution_count": 14,
      "metadata": {
        "colab": {
          "base_uri": "https://localhost:8080/"
        },
        "id": "15m_owb5aPvW",
        "outputId": "8ea06787-131e-48bd-d88c-2fefe7c09106"
      },
      "outputs": [
        {
          "name": "stderr",
          "output_type": "stream",
          "text": [
            "100%|██████████| 49997/49997 [00:00<00:00, 91249.28it/s]\n"
          ]
        }
      ],
      "source": [
        "for i in tqdm(range(len(test_copy))):\n",
        "  try:\n",
        "    test_copy.at[i, 'document'] = clean(test_copy.at[i, 'document'])\n",
        "  except KeyError as e:\n",
        "    print(e)\n",
        "    print(test_copy.at[i, 'document'])"
      ]
    },
    {
      "cell_type": "code",
      "execution_count": 15,
      "metadata": {
        "colab": {
          "base_uri": "https://localhost:8080/"
        },
        "id": "SV4pEsU0vGnZ",
        "outputId": "f8072f82-1974-424a-eb96-0e2e0d64c19a"
      },
      "outputs": [],
      "source": [
        "#train_x = ratings_train['document']\n",
        "#train_x\n",
        "# train_y = ratings_train['label']\n",
        "# print(train_x.shape, train_y.shape)"
      ]
    },
    {
      "cell_type": "code",
      "execution_count": 16,
      "metadata": {
        "id": "mdGSc4Ok8iJO"
      },
      "outputs": [],
      "source": [
        "from sklearn.model_selection import train_test_split\n",
        "\n",
        "train_x, val_x, train_y, val_y = train_test_split(train_copy['document'], train_copy['label'], test_size = 0.2, random_state = 0)"
      ]
    },
    {
      "cell_type": "code",
      "execution_count": 17,
      "metadata": {
        "colab": {
          "base_uri": "https://localhost:8080/"
        },
        "id": "E_Zw0I9j89QH",
        "outputId": "9ce989d0-f5d4-40fb-9767-8a9e1b172e53"
      },
      "outputs": [
        {
          "name": "stdout",
          "output_type": "stream",
          "text": [
            "(119996,) (119996,)\n",
            "(29999,) (29999,)\n"
          ]
        }
      ],
      "source": [
        "print(train_x.shape, train_y.shape)\n",
        "print(val_x.shape, val_y.shape)"
      ]
    },
    {
      "cell_type": "code",
      "execution_count": 18,
      "metadata": {
        "colab": {
          "base_uri": "https://localhost:8080/"
        },
        "id": "I74-4Exr1YGc",
        "outputId": "fc8473a2-b1ae-4022-d88c-60224735c837"
      },
      "outputs": [
        {
          "name": "stdout",
          "output_type": "stream",
          "text": [
            "(49997,) (49997,)\n"
          ]
        }
      ],
      "source": [
        "test_x = test_copy ['document']\n",
        "test_y = test_copy['label']\n",
        "print(test_x.shape, test_y.shape)"
      ]
    },
    {
      "cell_type": "code",
      "execution_count": 22,
      "metadata": {
        "id": "PZ1bnfQH9KGH"
      },
      "outputs": [],
      "source": [
        "train_vectors_X = emb_model.encode(train_x.values)\n",
        "val_vectors_X = emb_model.encode(val_x.values)\n",
        "test_vectors_X = emb_model.encode(test_x)"
      ]
    },
    {
      "cell_type": "code",
      "execution_count": 23,
      "metadata": {
        "colab": {
          "base_uri": "https://localhost:8080/"
        },
        "id": "hJNgFfZd1oDr",
        "outputId": "7a97499a-0ff7-4410-fb1d-4899c7e12a5c"
      },
      "outputs": [
        {
          "name": "stderr",
          "output_type": "stream",
          "text": [
            "2021-11-04 21:21:44.794273: I tensorflow/stream_executor/cuda/cuda_gpu_executor.cc:937] successful NUMA node read from SysFS had negative value (-1), but there must be at least one NUMA node, so returning NUMA node zero\n",
            "2021-11-04 21:21:44.823177: I tensorflow/stream_executor/cuda/cuda_gpu_executor.cc:937] successful NUMA node read from SysFS had negative value (-1), but there must be at least one NUMA node, so returning NUMA node zero\n",
            "2021-11-04 21:21:44.823665: I tensorflow/stream_executor/cuda/cuda_gpu_executor.cc:937] successful NUMA node read from SysFS had negative value (-1), but there must be at least one NUMA node, so returning NUMA node zero\n",
            "2021-11-04 21:21:44.824658: I tensorflow/core/platform/cpu_feature_guard.cc:142] This TensorFlow binary is optimized with oneAPI Deep Neural Network Library (oneDNN) to use the following CPU instructions in performance-critical operations:  AVX2 FMA\n",
            "To enable them in other operations, rebuild TensorFlow with the appropriate compiler flags.\n",
            "2021-11-04 21:21:44.825666: I tensorflow/stream_executor/cuda/cuda_gpu_executor.cc:937] successful NUMA node read from SysFS had negative value (-1), but there must be at least one NUMA node, so returning NUMA node zero\n",
            "2021-11-04 21:21:44.826106: I tensorflow/stream_executor/cuda/cuda_gpu_executor.cc:937] successful NUMA node read from SysFS had negative value (-1), but there must be at least one NUMA node, so returning NUMA node zero\n",
            "2021-11-04 21:21:44.826513: I tensorflow/stream_executor/cuda/cuda_gpu_executor.cc:937] successful NUMA node read from SysFS had negative value (-1), but there must be at least one NUMA node, so returning NUMA node zero\n",
            "2021-11-04 21:21:44.827771: I tensorflow/stream_executor/cuda/cuda_gpu_executor.cc:937] successful NUMA node read from SysFS had negative value (-1), but there must be at least one NUMA node, so returning NUMA node zero\n",
            "2021-11-04 21:21:44.828204: I tensorflow/stream_executor/cuda/cuda_gpu_executor.cc:937] successful NUMA node read from SysFS had negative value (-1), but there must be at least one NUMA node, so returning NUMA node zero\n",
            "2021-11-04 21:21:44.828617: I tensorflow/stream_executor/cuda/cuda_gpu_executor.cc:937] successful NUMA node read from SysFS had negative value (-1), but there must be at least one NUMA node, so returning NUMA node zero\n",
            "2021-11-04 21:21:44.829000: I tensorflow/core/common_runtime/gpu/gpu_device.cc:1510] Created device /job:localhost/replica:0/task:0/device:GPU:0 with 6910 MB memory:  -> device: 0, name: NVIDIA GeForce RTX 3080 Ti, pci bus id: 0000:09:00.0, compute capability: 8.6\n",
            "/home/kok/anaconda3/envs/rjs/lib/python3.8/site-packages/keras/optimizer_v2/optimizer_v2.py:355: UserWarning: The `lr` argument is deprecated, use `learning_rate` instead.\n",
            "  warnings.warn(\n",
            "2021-11-04 21:21:45.190840: I tensorflow/compiler/mlir/mlir_graph_optimization_pass.cc:185] None of the MLIR Optimization Passes are enabled (registered 2)\n"
          ]
        },
        {
          "name": "stdout",
          "output_type": "stream",
          "text": [
            "Epoch 1/1000\n",
            " 53/235 [=====>........................] - ETA: 0s - loss: 0.4982 - binary_accuracy: 0.7639"
          ]
        },
        {
          "name": "stderr",
          "output_type": "stream",
          "text": [
            "2021-11-04 21:21:46.419023: I tensorflow/stream_executor/cuda/cuda_blas.cc:1760] TensorFloat-32 will be used for the matrix multiplication. This will only be logged once.\n"
          ]
        },
        {
          "name": "stdout",
          "output_type": "stream",
          "text": [
            "235/235 [==============================] - 2s 4ms/step - loss: 0.4105 - binary_accuracy: 0.8177 - val_loss: 0.3520 - val_binary_accuracy: 0.8469\n",
            "\n",
            "Epoch 00001: val_loss improved from inf to 0.35204, saving model to ./nsmc/\n"
          ]
        },
        {
          "name": "stderr",
          "output_type": "stream",
          "text": [
            "2021-11-04 21:21:47.609396: W tensorflow/python/util/util.cc:348] Sets are not currently considered sequences, but this may change in the future, so consider avoiding using them.\n"
          ]
        },
        {
          "name": "stdout",
          "output_type": "stream",
          "text": [
            "INFO:tensorflow:Assets written to: ./nsmc/assets\n",
            "Epoch 2/1000\n",
            "235/235 [==============================] - 1s 3ms/step - loss: 0.3526 - binary_accuracy: 0.8496 - val_loss: 0.3366 - val_binary_accuracy: 0.8528\n",
            "\n",
            "Epoch 00002: val_loss improved from 0.35204 to 0.33660, saving model to ./nsmc/\n",
            "INFO:tensorflow:Assets written to: ./nsmc/assets\n",
            "Epoch 3/1000\n",
            "235/235 [==============================] - 1s 3ms/step - loss: 0.3384 - binary_accuracy: 0.8574 - val_loss: 0.3199 - val_binary_accuracy: 0.8621\n",
            "\n",
            "Epoch 00003: val_loss improved from 0.33660 to 0.31994, saving model to ./nsmc/\n",
            "INFO:tensorflow:Assets written to: ./nsmc/assets\n",
            "Epoch 4/1000\n",
            "235/235 [==============================] - 1s 3ms/step - loss: 0.3277 - binary_accuracy: 0.8610 - val_loss: 0.3193 - val_binary_accuracy: 0.8623\n",
            "\n",
            "Epoch 00004: val_loss improved from 0.31994 to 0.31930, saving model to ./nsmc/\n",
            "INFO:tensorflow:Assets written to: ./nsmc/assets\n",
            "Epoch 5/1000\n",
            "235/235 [==============================] - 1s 3ms/step - loss: 0.3198 - binary_accuracy: 0.8649 - val_loss: 0.3114 - val_binary_accuracy: 0.8655\n",
            "\n",
            "Epoch 00005: val_loss improved from 0.31930 to 0.31143, saving model to ./nsmc/\n",
            "INFO:tensorflow:Assets written to: ./nsmc/assets\n",
            "Epoch 6/1000\n",
            "235/235 [==============================] - 1s 3ms/step - loss: 0.3133 - binary_accuracy: 0.8683 - val_loss: 0.3099 - val_binary_accuracy: 0.8661\n",
            "\n",
            "Epoch 00006: val_loss improved from 0.31143 to 0.30987, saving model to ./nsmc/\n",
            "INFO:tensorflow:Assets written to: ./nsmc/assets\n",
            "Epoch 7/1000\n",
            "235/235 [==============================] - 1s 3ms/step - loss: 0.3071 - binary_accuracy: 0.8720 - val_loss: 0.3073 - val_binary_accuracy: 0.8687\n",
            "\n",
            "Epoch 00007: val_loss improved from 0.30987 to 0.30731, saving model to ./nsmc/\n",
            "INFO:tensorflow:Assets written to: ./nsmc/assets\n",
            "Epoch 8/1000\n",
            "235/235 [==============================] - 1s 3ms/step - loss: 0.3039 - binary_accuracy: 0.8748 - val_loss: 0.3067 - val_binary_accuracy: 0.8697\n",
            "\n",
            "Epoch 00008: val_loss improved from 0.30731 to 0.30668, saving model to ./nsmc/\n",
            "INFO:tensorflow:Assets written to: ./nsmc/assets\n",
            "Epoch 9/1000\n",
            "235/235 [==============================] - 1s 3ms/step - loss: 0.2989 - binary_accuracy: 0.8767 - val_loss: 0.3044 - val_binary_accuracy: 0.8692\n",
            "\n",
            "Epoch 00009: val_loss improved from 0.30668 to 0.30439, saving model to ./nsmc/\n",
            "INFO:tensorflow:Assets written to: ./nsmc/assets\n",
            "Epoch 10/1000\n",
            "235/235 [==============================] - 1s 3ms/step - loss: 0.2946 - binary_accuracy: 0.8794 - val_loss: 0.3018 - val_binary_accuracy: 0.8715\n",
            "\n",
            "Epoch 00010: val_loss improved from 0.30439 to 0.30176, saving model to ./nsmc/\n",
            "INFO:tensorflow:Assets written to: ./nsmc/assets\n",
            "Epoch 11/1000\n",
            "235/235 [==============================] - 1s 3ms/step - loss: 0.2899 - binary_accuracy: 0.8811 - val_loss: 0.3013 - val_binary_accuracy: 0.8701\n",
            "\n",
            "Epoch 00011: val_loss improved from 0.30176 to 0.30127, saving model to ./nsmc/\n",
            "INFO:tensorflow:Assets written to: ./nsmc/assets\n",
            "Epoch 12/1000\n",
            "235/235 [==============================] - 1s 3ms/step - loss: 0.2855 - binary_accuracy: 0.8833 - val_loss: 0.2997 - val_binary_accuracy: 0.8711\n",
            "\n",
            "Epoch 00012: val_loss improved from 0.30127 to 0.29967, saving model to ./nsmc/\n",
            "INFO:tensorflow:Assets written to: ./nsmc/assets\n",
            "Epoch 13/1000\n",
            "235/235 [==============================] - 1s 3ms/step - loss: 0.2825 - binary_accuracy: 0.8847 - val_loss: 0.3017 - val_binary_accuracy: 0.8709\n",
            "\n",
            "Epoch 00013: val_loss did not improve from 0.29967\n",
            "Epoch 14/1000\n",
            "235/235 [==============================] - 1s 3ms/step - loss: 0.2767 - binary_accuracy: 0.8876 - val_loss: 0.2974 - val_binary_accuracy: 0.8739\n",
            "\n",
            "Epoch 00014: val_loss improved from 0.29967 to 0.29739, saving model to ./nsmc/\n",
            "INFO:tensorflow:Assets written to: ./nsmc/assets\n",
            "Epoch 15/1000\n",
            "235/235 [==============================] - 1s 3ms/step - loss: 0.2747 - binary_accuracy: 0.8892 - val_loss: 0.3000 - val_binary_accuracy: 0.8727\n",
            "\n",
            "Epoch 00015: val_loss did not improve from 0.29739\n",
            "Epoch 16/1000\n",
            "235/235 [==============================] - 1s 3ms/step - loss: 0.2714 - binary_accuracy: 0.8908 - val_loss: 0.2975 - val_binary_accuracy: 0.8751\n",
            "\n",
            "Epoch 00016: val_loss did not improve from 0.29739\n",
            "Epoch 17/1000\n",
            "235/235 [==============================] - 1s 3ms/step - loss: 0.2668 - binary_accuracy: 0.8916 - val_loss: 0.3008 - val_binary_accuracy: 0.8736\n",
            "\n",
            "Epoch 00017: val_loss did not improve from 0.29739\n",
            "Epoch 18/1000\n",
            "235/235 [==============================] - 1s 3ms/step - loss: 0.2634 - binary_accuracy: 0.8933 - val_loss: 0.3005 - val_binary_accuracy: 0.8743\n",
            "\n",
            "Epoch 00018: val_loss did not improve from 0.29739\n",
            "Epoch 19/1000\n",
            "235/235 [==============================] - 1s 3ms/step - loss: 0.2604 - binary_accuracy: 0.8953 - val_loss: 0.2975 - val_binary_accuracy: 0.8750\n",
            "\n",
            "Epoch 00019: val_loss did not improve from 0.29739\n",
            "Epoch 20/1000\n",
            "235/235 [==============================] - 1s 3ms/step - loss: 0.2562 - binary_accuracy: 0.8964 - val_loss: 0.3038 - val_binary_accuracy: 0.8736\n",
            "\n",
            "Epoch 00020: val_loss did not improve from 0.29739\n",
            "Epoch 21/1000\n",
            "235/235 [==============================] - 1s 3ms/step - loss: 0.2546 - binary_accuracy: 0.8987 - val_loss: 0.2999 - val_binary_accuracy: 0.8751\n",
            "\n",
            "Epoch 00021: val_loss did not improve from 0.29739\n",
            "Epoch 22/1000\n",
            "235/235 [==============================] - 1s 3ms/step - loss: 0.2504 - binary_accuracy: 0.9004 - val_loss: 0.3007 - val_binary_accuracy: 0.8763\n",
            "\n",
            "Epoch 00022: val_loss did not improve from 0.29739\n",
            "Epoch 23/1000\n",
            "235/235 [==============================] - 1s 3ms/step - loss: 0.2473 - binary_accuracy: 0.9020 - val_loss: 0.3002 - val_binary_accuracy: 0.8767\n",
            "\n",
            "Epoch 00023: val_loss did not improve from 0.29739\n",
            "Epoch 24/1000\n",
            "235/235 [==============================] - 1s 3ms/step - loss: 0.2446 - binary_accuracy: 0.9027 - val_loss: 0.3018 - val_binary_accuracy: 0.8758\n",
            "\n",
            "Epoch 00024: val_loss did not improve from 0.29739\n",
            "Epoch 00024: early stopping\n"
          ]
        },
        {
          "data": {
            "text/plain": [
              "<keras.callbacks.History at 0x7f4360ca23a0>"
            ]
          },
          "execution_count": 23,
          "metadata": {},
          "output_type": "execute_result"
        }
      ],
      "source": [
        "from tensorflow.keras import models\n",
        "from tensorflow.keras import layers\n",
        "from tensorflow.keras import optimizers\n",
        "from tensorflow.keras import losses\n",
        "from tensorflow.keras import metrics\n",
        "from tensorflow.keras.layers import Activation\n",
        "from tensorflow.keras.callbacks import EarlyStopping, ModelCheckpoint\n",
        "from tensorflow.keras.layers import BatchNormalization\n",
        "# dense -> batchnorm -> activation -> drop out\n",
        "# 256->128->64->32->1\n",
        "model = models.Sequential()\n",
        "model.add(layers.Dense(256, input_shape=(768,)))\n",
        "model.add(BatchNormalization())\n",
        "model.add(Activation('relu'))\n",
        "model.add(layers.Dropout(0.5))\n",
        "\n",
        "model.add(layers.Dense(128))\n",
        "model.add(BatchNormalization())\n",
        "model.add(Activation('relu'))\n",
        "model.add(layers.Dropout(0.5))\n",
        "\n",
        "model.add(layers.Dense(64))\n",
        "model.add(BatchNormalization())\n",
        "model.add(Activation('relu'))\n",
        "model.add(layers.Dropout(0.5))\n",
        "\n",
        "# model.add(layers.Dense(32))\n",
        "# model.add(BatchNormalization())\n",
        "# model.add(Activation('relu'))\n",
        "# model.add(layers.Dropout(0.5))\n",
        "\n",
        "model.add(layers.Dense(1, activation='sigmoid'))\n",
        "\n",
        "model.compile(optimizer=optimizers.Adam(lr=0.001),\n",
        "             loss=losses.binary_crossentropy,\n",
        "             metrics=[metrics.binary_accuracy])\n",
        "\n",
        "checkpoint = ModelCheckpoint(PATH, monitor='val_loss', verbose=1, save_best_only=True)\n",
        "earlystopping = EarlyStopping(monitor='val_loss', patience=10, verbose=1)\n",
        "\n",
        "\n",
        "model.fit(train_vectors_X, train_y, validation_data=(val_vectors_X, val_y), epochs=1000, batch_size=512, callbacks=[checkpoint, earlystopping])\n"
      ]
    },
    {
      "cell_type": "code",
      "execution_count": 24,
      "metadata": {
        "colab": {
          "base_uri": "https://localhost:8080/"
        },
        "id": "o_YenRat1oHT",
        "outputId": "61575352-e8d5-4b1c-bf87-f4a623985a69"
      },
      "outputs": [
        {
          "name": "stdout",
          "output_type": "stream",
          "text": [
            "1563/1563 [==============================] - 2s 925us/step - loss: 0.3016 - binary_accuracy: 0.8728\n"
          ]
        }
      ],
      "source": [
        "from tensorflow.keras.models import load_model\n",
        "\n",
        "best_model = load_model(PATH)\n",
        "results = best_model.evaluate(test_vectors_X, test_y)"
      ]
    },
    {
      "cell_type": "code",
      "execution_count": 25,
      "metadata": {
        "id": "Smcpv0j4yhn2"
      },
      "outputs": [],
      "source": [
        "from utils.data_frame import Data_frame"
      ]
    },
    {
      "cell_type": "code",
      "execution_count": 26,
      "metadata": {
        "colab": {
          "base_uri": "https://localhost:8080/",
          "height": 202
        },
        "id": "_BAOetrk2CQ9",
        "outputId": "d17fa9d8-5cff-44f5-9cd3-550049871844"
      },
      "outputs": [
        {
          "data": {
            "text/html": [
              "<div>\n",
              "<style scoped>\n",
              "    .dataframe tbody tr th:only-of-type {\n",
              "        vertical-align: middle;\n",
              "    }\n",
              "\n",
              "    .dataframe tbody tr th {\n",
              "        vertical-align: top;\n",
              "    }\n",
              "\n",
              "    .dataframe thead th {\n",
              "        text-align: right;\n",
              "    }\n",
              "</style>\n",
              "<table border=\"1\" class=\"dataframe\">\n",
              "  <thead>\n",
              "    <tr style=\"text-align: right;\">\n",
              "      <th></th>\n",
              "      <th>name</th>\n",
              "      <th>user</th>\n",
              "      <th>star</th>\n",
              "      <th>content</th>\n",
              "    </tr>\n",
              "  </thead>\n",
              "  <tbody>\n",
              "    <tr>\n",
              "      <th>0</th>\n",
              "      <td>[르블란서] 돈마호크 스테이크&amp;머스터드 소스 세트</td>\n",
              "      <td>황*현</td>\n",
              "      <td></td>\n",
              "      <td>지난번 괜찮었던 기억으로 재구매 했는데 다른 브랜드였나 싶게 기름이 많어도 늠~ 많아요</td>\n",
              "    </tr>\n",
              "    <tr>\n",
              "      <th>1</th>\n",
              "      <td>[르블란서] 돈마호크 스테이크&amp;머스터드 소스 세트</td>\n",
              "      <td>조*정</td>\n",
              "      <td></td>\n",
              "      <td>이전에 먹었는데 맛있어서 재구매합니다. 전에는 고기가 두꺼운데 팬에 굽느라 냄새도 ...</td>\n",
              "    </tr>\n",
              "    <tr>\n",
              "      <th>2</th>\n",
              "      <td>[르블란서] 돈마호크 스테이크&amp;머스터드 소스 세트</td>\n",
              "      <td>유*</td>\n",
              "      <td></td>\n",
              "      <td>정망 맛있게 먹었어요 부모님도 좋아하시네요~</td>\n",
              "    </tr>\n",
              "    <tr>\n",
              "      <th>3</th>\n",
              "      <td>[르블란서] 돈마호크 스테이크&amp;머스터드 소스 세트</td>\n",
              "      <td>남*인</td>\n",
              "      <td></td>\n",
              "      <td>더니 너무 잘 먹어 또 쥬문요</td>\n",
              "    </tr>\n",
              "    <tr>\n",
              "      <th>4</th>\n",
              "      <td>[르블란서] 돈마호크 스테이크&amp;머스터드 소스 세트</td>\n",
              "      <td>이*주</td>\n",
              "      <td></td>\n",
              "      <td>맛은 괜찮아요 근데 지방이 좀 많네요. 에어프라이어 돌려 드세요.</td>\n",
              "    </tr>\n",
              "  </tbody>\n",
              "</table>\n",
              "</div>"
            ],
            "text/plain": [
              "                          name user star  \\\n",
              "0  [르블란서] 돈마호크 스테이크&머스터드 소스 세트  황*현        \n",
              "1  [르블란서] 돈마호크 스테이크&머스터드 소스 세트  조*정        \n",
              "2  [르블란서] 돈마호크 스테이크&머스터드 소스 세트   유*        \n",
              "3  [르블란서] 돈마호크 스테이크&머스터드 소스 세트  남*인        \n",
              "4  [르블란서] 돈마호크 스테이크&머스터드 소스 세트  이*주        \n",
              "\n",
              "                                             content  \n",
              "0   지난번 괜찮었던 기억으로 재구매 했는데 다른 브랜드였나 싶게 기름이 많어도 늠~ 많아요  \n",
              "1  이전에 먹었는데 맛있어서 재구매합니다. 전에는 고기가 두꺼운데 팬에 굽느라 냄새도 ...  \n",
              "2                           정망 맛있게 먹었어요 부모님도 좋아하시네요~  \n",
              "3                                   더니 너무 잘 먹어 또 쥬문요  \n",
              "4               맛은 괜찮아요 근데 지방이 좀 많네요. 에어프라이어 돌려 드세요.  "
            ]
          },
          "execution_count": 26,
          "metadata": {},
          "output_type": "execute_result"
        }
      ],
      "source": [
        "df = Data_frame('마켓컬리', '리뷰').get_DF()\n",
        "df.head()"
      ]
    },
    {
      "cell_type": "code",
      "execution_count": 27,
      "metadata": {
        "id": "8F75Y5vz3nI8"
      },
      "outputs": [
        {
          "name": "stdout",
          "output_type": "stream",
          "text": [
            "<class 'pandas.core.frame.DataFrame'>\n",
            "RangeIndex: 16481 entries, 0 to 16480\n",
            "Data columns (total 4 columns):\n",
            " #   Column   Non-Null Count  Dtype \n",
            "---  ------   --------------  ----- \n",
            " 0   name     16481 non-null  object\n",
            " 1   user     16481 non-null  object\n",
            " 2   star     16481 non-null  object\n",
            " 3   content  16481 non-null  object\n",
            "dtypes: object(4)\n",
            "memory usage: 515.2+ KB\n"
          ]
        }
      ],
      "source": [
        "df.info()"
      ]
    },
    {
      "cell_type": "code",
      "execution_count": 31,
      "metadata": {},
      "outputs": [
        {
          "data": {
            "text/html": [
              "<div>\n",
              "<style scoped>\n",
              "    .dataframe tbody tr th:only-of-type {\n",
              "        vertical-align: middle;\n",
              "    }\n",
              "\n",
              "    .dataframe tbody tr th {\n",
              "        vertical-align: top;\n",
              "    }\n",
              "\n",
              "    .dataframe thead th {\n",
              "        text-align: right;\n",
              "    }\n",
              "</style>\n",
              "<table border=\"1\" class=\"dataframe\">\n",
              "  <thead>\n",
              "    <tr style=\"text-align: right;\">\n",
              "      <th></th>\n",
              "      <th>name</th>\n",
              "      <th>user</th>\n",
              "      <th>star</th>\n",
              "      <th>content</th>\n",
              "      <th>emb_content</th>\n",
              "    </tr>\n",
              "  </thead>\n",
              "  <tbody>\n",
              "    <tr>\n",
              "      <th>0</th>\n",
              "      <td>[르블란서] 돈마호크 스테이크&amp;머스터드 소스 세트</td>\n",
              "      <td>황*현</td>\n",
              "      <td></td>\n",
              "      <td>지난번 괜찮었던 기억으로 재구매 했는데 다른 브랜드였나 싶게 기름이 많어도 늠~ 많아요</td>\n",
              "      <td>0</td>\n",
              "    </tr>\n",
              "    <tr>\n",
              "      <th>1</th>\n",
              "      <td>[르블란서] 돈마호크 스테이크&amp;머스터드 소스 세트</td>\n",
              "      <td>조*정</td>\n",
              "      <td></td>\n",
              "      <td>이전에 먹었는데 맛있어서 재구매합니다. 전에는 고기가 두꺼운데 팬에 굽느라 냄새도 ...</td>\n",
              "      <td>0</td>\n",
              "    </tr>\n",
              "    <tr>\n",
              "      <th>2</th>\n",
              "      <td>[르블란서] 돈마호크 스테이크&amp;머스터드 소스 세트</td>\n",
              "      <td>유*</td>\n",
              "      <td></td>\n",
              "      <td>정망 맛있게 먹었어요 부모님도 좋아하시네요~</td>\n",
              "      <td>0</td>\n",
              "    </tr>\n",
              "    <tr>\n",
              "      <th>3</th>\n",
              "      <td>[르블란서] 돈마호크 스테이크&amp;머스터드 소스 세트</td>\n",
              "      <td>남*인</td>\n",
              "      <td></td>\n",
              "      <td>더니 너무 잘 먹어 또 쥬문요</td>\n",
              "      <td>0</td>\n",
              "    </tr>\n",
              "    <tr>\n",
              "      <th>4</th>\n",
              "      <td>[르블란서] 돈마호크 스테이크&amp;머스터드 소스 세트</td>\n",
              "      <td>이*주</td>\n",
              "      <td></td>\n",
              "      <td>맛은 괜찮아요 근데 지방이 좀 많네요. 에어프라이어 돌려 드세요.</td>\n",
              "      <td>0</td>\n",
              "    </tr>\n",
              "    <tr>\n",
              "      <th>...</th>\n",
              "      <td>...</td>\n",
              "      <td>...</td>\n",
              "      <td>...</td>\n",
              "      <td>...</td>\n",
              "      <td>...</td>\n",
              "    </tr>\n",
              "    <tr>\n",
              "      <th>16476</th>\n",
              "      <td>[낭만어시장] 얼큰 알탕</td>\n",
              "      <td>한*주</td>\n",
              "      <td></td>\n",
              "      <td>2명이서 먹기엔 조금 양이 적고, 추가로 두부나 쑥갓 대파를 더 넣으니 좋습니다~!!</td>\n",
              "      <td>0</td>\n",
              "    </tr>\n",
              "    <tr>\n",
              "      <th>16477</th>\n",
              "      <td>[낭만어시장] 얼큰 알탕</td>\n",
              "      <td>유*연</td>\n",
              "      <td></td>\n",
              "      <td>국물이 시원합니다 구성도 다양하구요 맛있어요</td>\n",
              "      <td>0</td>\n",
              "    </tr>\n",
              "    <tr>\n",
              "      <th>16478</th>\n",
              "      <td>[낭만어시장] 얼큰 알탕</td>\n",
              "      <td>심*희</td>\n",
              "      <td></td>\n",
              "      <td>보고 샀는데 아직 먹어보진 않았어요 알탕 좋아해서 맛있게 잘 먹을 것 같아요</td>\n",
              "      <td>0</td>\n",
              "    </tr>\n",
              "    <tr>\n",
              "      <th>16479</th>\n",
              "      <td>[낭만어시장] 얼큰 알탕</td>\n",
              "      <td>손*권</td>\n",
              "      <td></td>\n",
              "      <td>낭만어시장알탕 잘받았습니다~~</td>\n",
              "      <td>0</td>\n",
              "    </tr>\n",
              "    <tr>\n",
              "      <th>16480</th>\n",
              "      <td>[낭만어시장] 얼큰 알탕</td>\n",
              "      <td>방*민</td>\n",
              "      <td></td>\n",
              "      <td>얼큰하고 먹을만하네요</td>\n",
              "      <td>0</td>\n",
              "    </tr>\n",
              "  </tbody>\n",
              "</table>\n",
              "<p>16481 rows × 5 columns</p>\n",
              "</div>"
            ],
            "text/plain": [
              "                              name user star  \\\n",
              "0      [르블란서] 돈마호크 스테이크&머스터드 소스 세트  황*현        \n",
              "1      [르블란서] 돈마호크 스테이크&머스터드 소스 세트  조*정        \n",
              "2      [르블란서] 돈마호크 스테이크&머스터드 소스 세트   유*        \n",
              "3      [르블란서] 돈마호크 스테이크&머스터드 소스 세트  남*인        \n",
              "4      [르블란서] 돈마호크 스테이크&머스터드 소스 세트  이*주        \n",
              "...                            ...  ...  ...   \n",
              "16476                [낭만어시장] 얼큰 알탕  한*주        \n",
              "16477                [낭만어시장] 얼큰 알탕  유*연        \n",
              "16478                [낭만어시장] 얼큰 알탕  심*희        \n",
              "16479                [낭만어시장] 얼큰 알탕  손*권        \n",
              "16480                [낭만어시장] 얼큰 알탕  방*민        \n",
              "\n",
              "                                                 content  emb_content  \n",
              "0       지난번 괜찮었던 기억으로 재구매 했는데 다른 브랜드였나 싶게 기름이 많어도 늠~ 많아요            0  \n",
              "1      이전에 먹었는데 맛있어서 재구매합니다. 전에는 고기가 두꺼운데 팬에 굽느라 냄새도 ...            0  \n",
              "2                               정망 맛있게 먹었어요 부모님도 좋아하시네요~            0  \n",
              "3                                       더니 너무 잘 먹어 또 쥬문요            0  \n",
              "4                   맛은 괜찮아요 근데 지방이 좀 많네요. 에어프라이어 돌려 드세요.            0  \n",
              "...                                                  ...          ...  \n",
              "16476    2명이서 먹기엔 조금 양이 적고, 추가로 두부나 쑥갓 대파를 더 넣으니 좋습니다~!!            0  \n",
              "16477                           국물이 시원합니다 구성도 다양하구요 맛있어요            0  \n",
              "16478         보고 샀는데 아직 먹어보진 않았어요 알탕 좋아해서 맛있게 잘 먹을 것 같아요            0  \n",
              "16479                                   낭만어시장알탕 잘받았습니다~~            0  \n",
              "16480                                        얼큰하고 먹을만하네요            0  \n",
              "\n",
              "[16481 rows x 5 columns]"
            ]
          },
          "execution_count": 31,
          "metadata": {},
          "output_type": "execute_result"
        }
      ],
      "source": [
        "df"
      ]
    },
    {
      "cell_type": "code",
      "execution_count": 32,
      "metadata": {
        "id": "kl3FRvqp2tN-"
      },
      "outputs": [
        {
          "name": "stderr",
          "output_type": "stream",
          "text": [
            "100%|██████████| 16481/16481 [00:00<00:00, 94926.75it/s]\n"
          ]
        }
      ],
      "source": [
        "# df['emb_content'] = 0\n",
        "for i in tqdm(range(len(df))):\n",
        "    df.at[i, 'content'] = clean(df.at[i, 'content'])"
      ]
    },
    {
      "cell_type": "code",
      "execution_count": 33,
      "metadata": {},
      "outputs": [
        {
          "data": {
            "text/plain": [
              "array([[-0.3646573 , -0.3251074 , -1.1858953 , ...,  0.35351303,\n",
              "        -0.14340854,  0.24134117],\n",
              "       [ 0.04697471, -0.08881704, -0.72056055, ...,  0.05675216,\n",
              "        -0.35330698,  0.19085896],\n",
              "       [-1.0835663 , -0.8103261 ,  0.22853942, ..., -0.6862127 ,\n",
              "        -0.28821766, -0.208606  ]], dtype=float32)"
            ]
          },
          "execution_count": 33,
          "metadata": {},
          "output_type": "execute_result"
        }
      ],
      "source": [
        "review_vector = emb_model.encode(df['content'].values)\n",
        "review_vector[:3]"
      ]
    },
    {
      "cell_type": "code",
      "execution_count": 40,
      "metadata": {},
      "outputs": [
        {
          "data": {
            "text/plain": [
              "array([[0.9344138 ],\n",
              "       [0.57465225],\n",
              "       [0.973011  ],\n",
              "       [0.9813239 ],\n",
              "       [0.04840476]], dtype=float32)"
            ]
          },
          "execution_count": 40,
          "metadata": {},
          "output_type": "execute_result"
        }
      ],
      "source": [
        "pred = best_model.predict(review_vector)\n",
        "pred[:5]"
      ]
    },
    {
      "cell_type": "code",
      "execution_count": 37,
      "metadata": {},
      "outputs": [
        {
          "data": {
            "text/plain": [
              "[1, 1, 1, 1, 0]"
            ]
          },
          "execution_count": 37,
          "metadata": {},
          "output_type": "execute_result"
        }
      ],
      "source": [
        "sentiment = [1 if pred > 0.5 else 0 for pred in pred]\n",
        "sentiment[:5]"
      ]
    },
    {
      "cell_type": "code",
      "execution_count": 39,
      "metadata": {},
      "outputs": [
        {
          "data": {
            "text/html": [
              "<div>\n",
              "<style scoped>\n",
              "    .dataframe tbody tr th:only-of-type {\n",
              "        vertical-align: middle;\n",
              "    }\n",
              "\n",
              "    .dataframe tbody tr th {\n",
              "        vertical-align: top;\n",
              "    }\n",
              "\n",
              "    .dataframe thead th {\n",
              "        text-align: right;\n",
              "    }\n",
              "</style>\n",
              "<table border=\"1\" class=\"dataframe\">\n",
              "  <thead>\n",
              "    <tr style=\"text-align: right;\">\n",
              "      <th></th>\n",
              "      <th>name</th>\n",
              "      <th>user</th>\n",
              "      <th>star</th>\n",
              "      <th>content</th>\n",
              "      <th>emb_content</th>\n",
              "    </tr>\n",
              "  </thead>\n",
              "  <tbody>\n",
              "    <tr>\n",
              "      <th>0</th>\n",
              "      <td>[르블란서] 돈마호크 스테이크&amp;머스터드 소스 세트</td>\n",
              "      <td>황*현</td>\n",
              "      <td>1</td>\n",
              "      <td>지난번 괜찮었던 기억으로 재구매 했는데 다른 브랜드였나 싶게 기름이 많어도 늠~ 많아요</td>\n",
              "      <td>0</td>\n",
              "    </tr>\n",
              "    <tr>\n",
              "      <th>1</th>\n",
              "      <td>[르블란서] 돈마호크 스테이크&amp;머스터드 소스 세트</td>\n",
              "      <td>조*정</td>\n",
              "      <td>1</td>\n",
              "      <td>이전에 먹었는데 맛있어서 재구매합니다. 전에는 고기가 두꺼운데 팬에 굽느라 냄새도 ...</td>\n",
              "      <td>0</td>\n",
              "    </tr>\n",
              "    <tr>\n",
              "      <th>2</th>\n",
              "      <td>[르블란서] 돈마호크 스테이크&amp;머스터드 소스 세트</td>\n",
              "      <td>유*</td>\n",
              "      <td>1</td>\n",
              "      <td>정망 맛있게 먹었어요 부모님도 좋아하시네요~</td>\n",
              "      <td>0</td>\n",
              "    </tr>\n",
              "    <tr>\n",
              "      <th>3</th>\n",
              "      <td>[르블란서] 돈마호크 스테이크&amp;머스터드 소스 세트</td>\n",
              "      <td>남*인</td>\n",
              "      <td>1</td>\n",
              "      <td>더니 너무 잘 먹어 또 쥬문요</td>\n",
              "      <td>0</td>\n",
              "    </tr>\n",
              "    <tr>\n",
              "      <th>4</th>\n",
              "      <td>[르블란서] 돈마호크 스테이크&amp;머스터드 소스 세트</td>\n",
              "      <td>이*주</td>\n",
              "      <td>0</td>\n",
              "      <td>맛은 괜찮아요 근데 지방이 좀 많네요. 에어프라이어 돌려 드세요.</td>\n",
              "      <td>0</td>\n",
              "    </tr>\n",
              "    <tr>\n",
              "      <th>5</th>\n",
              "      <td>[르블란서] 돈마호크 스테이크&amp;머스터드 소스 세트</td>\n",
              "      <td>류*정</td>\n",
              "      <td>1</td>\n",
              "      <td>기름기가 많아 그런지 고기가 맛은 좋아요. 남편은 느끼하다는데 퍽퍽한 고기보다 훨씬...</td>\n",
              "      <td>0</td>\n",
              "    </tr>\n",
              "    <tr>\n",
              "      <th>6</th>\n",
              "      <td>[르블란서] 돈마호크 스테이크&amp;머스터드 소스 세트</td>\n",
              "      <td>이*애</td>\n",
              "      <td>0</td>\n",
              "      <td>너무 퍽퍽한 느낌..,ㅜ</td>\n",
              "      <td>0</td>\n",
              "    </tr>\n",
              "    <tr>\n",
              "      <th>7</th>\n",
              "      <td>[르블란서] 돈마호크 스테이크&amp;머스터드 소스 세트</td>\n",
              "      <td>임*수</td>\n",
              "      <td>1</td>\n",
              "      <td>여름엔 배달로 버티다 선선해져서 에프좀 키려구요ㅎ 요거 맛있는데 에프에 해도 느끼함...</td>\n",
              "      <td>0</td>\n",
              "    </tr>\n",
              "    <tr>\n",
              "      <th>8</th>\n",
              "      <td>[르블란서] 돈마호크 스테이크&amp;머스터드 소스 세트</td>\n",
              "      <td>양*숙</td>\n",
              "      <td>0</td>\n",
              "      <td>육질은 좋아요 비계가 좀 많아요</td>\n",
              "      <td>0</td>\n",
              "    </tr>\n",
              "    <tr>\n",
              "      <th>9</th>\n",
              "      <td>[르블란서] 돈마호크 스테이크&amp;머스터드 소스 세트</td>\n",
              "      <td>조*혜</td>\n",
              "      <td>1</td>\n",
              "      <td>기름이 너무 많아요ㅜㅜ</td>\n",
              "      <td>0</td>\n",
              "    </tr>\n",
              "    <tr>\n",
              "      <th>10</th>\n",
              "      <td>[르블란서] 돈마호크 스테이크&amp;머스터드 소스 세트</td>\n",
              "      <td>성*아</td>\n",
              "      <td>1</td>\n",
              "      <td>소스도 너무 맛잇고 고기도 연해요!</td>\n",
              "      <td>0</td>\n",
              "    </tr>\n",
              "    <tr>\n",
              "      <th>11</th>\n",
              "      <td>[르블란서] 돈마호크 스테이크&amp;머스터드 소스 세트</td>\n",
              "      <td>김*나</td>\n",
              "      <td>1</td>\n",
              "      <td>에프에 돌려 먹었어요 맛있어요</td>\n",
              "      <td>0</td>\n",
              "    </tr>\n",
              "    <tr>\n",
              "      <th>12</th>\n",
              "      <td>[르블란서] 돈마호크 스테이크&amp;머스터드 소스 세트</td>\n",
              "      <td>이*은</td>\n",
              "      <td>1</td>\n",
              "      <td>자주먹던건데 오랜만에 재주문 했어요.</td>\n",
              "      <td>0</td>\n",
              "    </tr>\n",
              "    <tr>\n",
              "      <th>13</th>\n",
              "      <td>[르블란서] 돈마호크 스테이크&amp;머스터드 소스 세트</td>\n",
              "      <td>박*량</td>\n",
              "      <td>0</td>\n",
              "      <td>르블란서 안 가도 될 듯 합니다</td>\n",
              "      <td>0</td>\n",
              "    </tr>\n",
              "    <tr>\n",
              "      <th>14</th>\n",
              "      <td>[르블란서] 돈마호크 스테이크&amp;머스터드 소스 세트</td>\n",
              "      <td>정*영</td>\n",
              "      <td>1</td>\n",
              "      <td>잘 해동해서 설명해도 에어프라이어에 20분, 뒤집어서 10분 굽고 뒤집어서 구울때 ...</td>\n",
              "      <td>0</td>\n",
              "    </tr>\n",
              "    <tr>\n",
              "      <th>15</th>\n",
              "      <td>[르블란서] 돈마호크 스테이크&amp;머스터드 소스 세트</td>\n",
              "      <td>김*정</td>\n",
              "      <td>1</td>\n",
              "      <td>부위가 지방많은 곳인가요. 평보니 기름 많다는 평이 많네요. 구위면 비주얼이 괜찮은...</td>\n",
              "      <td>0</td>\n",
              "    </tr>\n",
              "    <tr>\n",
              "      <th>16</th>\n",
              "      <td>[르블란서] 돈마호크 스테이크&amp;머스터드 소스 세트</td>\n",
              "      <td>윤*진</td>\n",
              "      <td>0</td>\n",
              "      <td>이거 거의 기름 덩어리 아닌가요? 후기가 좋다고 해서 샀는데 ㅠㅠ 해동했는데 먹고싶...</td>\n",
              "      <td>0</td>\n",
              "    </tr>\n",
              "    <tr>\n",
              "      <th>17</th>\n",
              "      <td>[르블란서] 돈마호크 스테이크&amp;머스터드 소스 세트</td>\n",
              "      <td>신*혜</td>\n",
              "      <td>1</td>\n",
              "      <td>냉면하고 같이 먹으면 더 맛있답니다</td>\n",
              "      <td>0</td>\n",
              "    </tr>\n",
              "    <tr>\n",
              "      <th>18</th>\n",
              "      <td>[르블란서] 돈마호크 스테이크&amp;머스터드 소스 세트</td>\n",
              "      <td>조*이</td>\n",
              "      <td>1</td>\n",
              "      <td>양도 많고 고기가 많이 부드러워요 같이 들어있는 소스도 너무 잘어울려서 자주 사먹어...</td>\n",
              "      <td>0</td>\n",
              "    </tr>\n",
              "    <tr>\n",
              "      <th>19</th>\n",
              "      <td>[르블란서] 돈마호크 스테이크&amp;머스터드 소스 세트</td>\n",
              "      <td>박*름</td>\n",
              "      <td>1</td>\n",
              "      <td>맛있게 잘 먹었어요:-)</td>\n",
              "      <td>0</td>\n",
              "    </tr>\n",
              "    <tr>\n",
              "      <th>20</th>\n",
              "      <td>[르블란서] 돈마호크 스테이크&amp;머스터드 소스 세트</td>\n",
              "      <td>이*림</td>\n",
              "      <td>1</td>\n",
              "      <td>주말에 항정살이랑 해먹어보려구요ㅎ</td>\n",
              "      <td>0</td>\n",
              "    </tr>\n",
              "    <tr>\n",
              "      <th>21</th>\n",
              "      <td>[르블란서] 돈마호크 스테이크&amp;머스터드 소스 세트</td>\n",
              "      <td>김*진</td>\n",
              "      <td>1</td>\n",
              "      <td>살짝 많이 느끼하긴한데 맛나요 겉바속촉의 정석</td>\n",
              "      <td>0</td>\n",
              "    </tr>\n",
              "    <tr>\n",
              "      <th>22</th>\n",
              "      <td>[르블란서] 돈마호크 스테이크&amp;머스터드 소스 세트</td>\n",
              "      <td>박*혜</td>\n",
              "      <td>1</td>\n",
              "      <td>에프에 바삭하게 구우면 겉은바삭 안은 육즙이 가득입니다. 근데 둘레?부분빼고는 완전...</td>\n",
              "      <td>0</td>\n",
              "    </tr>\n",
              "    <tr>\n",
              "      <th>23</th>\n",
              "      <td>[르블란서] 돈마호크 스테이크&amp;머스터드 소스 세트</td>\n",
              "      <td>윤*진</td>\n",
              "      <td>1</td>\n",
              "      <td>에프에 설명대로 구우면 겉바속촉 고기는 너무맛있어요. 다만 동봉된 소스가 너무 짭니다..</td>\n",
              "      <td>0</td>\n",
              "    </tr>\n",
              "    <tr>\n",
              "      <th>24</th>\n",
              "      <td>[르블란서] 돈마호크 스테이크&amp;머스터드 소스 세트</td>\n",
              "      <td>진*영</td>\n",
              "      <td>1</td>\n",
              "      <td>두꺼워서 익히긴 어려웠지만 맛은 있었어요</td>\n",
              "      <td>0</td>\n",
              "    </tr>\n",
              "    <tr>\n",
              "      <th>25</th>\n",
              "      <td>[르블란서] 돈마호크 스테이크&amp;머스터드 소스 세트</td>\n",
              "      <td>신*리</td>\n",
              "      <td>1</td>\n",
              "      <td>살도 많고 좋습니다</td>\n",
              "      <td>0</td>\n",
              "    </tr>\n",
              "    <tr>\n",
              "      <th>26</th>\n",
              "      <td>[르블란서] 돈마호크 스테이크&amp;머스터드 소스 세트</td>\n",
              "      <td>이*호</td>\n",
              "      <td>1</td>\n",
              "      <td>돈마호크 먹기 좋네요</td>\n",
              "      <td>0</td>\n",
              "    </tr>\n",
              "    <tr>\n",
              "      <th>27</th>\n",
              "      <td>[르블란서] 돈마호크 스테이크&amp;머스터드 소스 세트</td>\n",
              "      <td>강*경</td>\n",
              "      <td>1</td>\n",
              "      <td>맛있는 스테이크 즐겨요</td>\n",
              "      <td>0</td>\n",
              "    </tr>\n",
              "    <tr>\n",
              "      <th>28</th>\n",
              "      <td>[르블란서] 돈마호크 스테이크&amp;머스터드 소스 세트</td>\n",
              "      <td>김*은</td>\n",
              "      <td>1</td>\n",
              "      <td>맛잇고 기름져요 증량에 도움됩니당</td>\n",
              "      <td>0</td>\n",
              "    </tr>\n",
              "    <tr>\n",
              "      <th>29</th>\n",
              "      <td>[르블란서] 돈마호크 스테이크&amp;머스터드 소스 세트</td>\n",
              "      <td>이*연</td>\n",
              "      <td>0</td>\n",
              "      <td>양은 좀 적어요ㅜㅜ</td>\n",
              "      <td>0</td>\n",
              "    </tr>\n",
              "  </tbody>\n",
              "</table>\n",
              "</div>"
            ],
            "text/plain": [
              "                           name user  star  \\\n",
              "0   [르블란서] 돈마호크 스테이크&머스터드 소스 세트  황*현     1   \n",
              "1   [르블란서] 돈마호크 스테이크&머스터드 소스 세트  조*정     1   \n",
              "2   [르블란서] 돈마호크 스테이크&머스터드 소스 세트   유*     1   \n",
              "3   [르블란서] 돈마호크 스테이크&머스터드 소스 세트  남*인     1   \n",
              "4   [르블란서] 돈마호크 스테이크&머스터드 소스 세트  이*주     0   \n",
              "5   [르블란서] 돈마호크 스테이크&머스터드 소스 세트  류*정     1   \n",
              "6   [르블란서] 돈마호크 스테이크&머스터드 소스 세트  이*애     0   \n",
              "7   [르블란서] 돈마호크 스테이크&머스터드 소스 세트  임*수     1   \n",
              "8   [르블란서] 돈마호크 스테이크&머스터드 소스 세트  양*숙     0   \n",
              "9   [르블란서] 돈마호크 스테이크&머스터드 소스 세트  조*혜     1   \n",
              "10  [르블란서] 돈마호크 스테이크&머스터드 소스 세트  성*아     1   \n",
              "11  [르블란서] 돈마호크 스테이크&머스터드 소스 세트  김*나     1   \n",
              "12  [르블란서] 돈마호크 스테이크&머스터드 소스 세트  이*은     1   \n",
              "13  [르블란서] 돈마호크 스테이크&머스터드 소스 세트  박*량     0   \n",
              "14  [르블란서] 돈마호크 스테이크&머스터드 소스 세트  정*영     1   \n",
              "15  [르블란서] 돈마호크 스테이크&머스터드 소스 세트  김*정     1   \n",
              "16  [르블란서] 돈마호크 스테이크&머스터드 소스 세트  윤*진     0   \n",
              "17  [르블란서] 돈마호크 스테이크&머스터드 소스 세트  신*혜     1   \n",
              "18  [르블란서] 돈마호크 스테이크&머스터드 소스 세트  조*이     1   \n",
              "19  [르블란서] 돈마호크 스테이크&머스터드 소스 세트  박*름     1   \n",
              "20  [르블란서] 돈마호크 스테이크&머스터드 소스 세트  이*림     1   \n",
              "21  [르블란서] 돈마호크 스테이크&머스터드 소스 세트  김*진     1   \n",
              "22  [르블란서] 돈마호크 스테이크&머스터드 소스 세트  박*혜     1   \n",
              "23  [르블란서] 돈마호크 스테이크&머스터드 소스 세트  윤*진     1   \n",
              "24  [르블란서] 돈마호크 스테이크&머스터드 소스 세트  진*영     1   \n",
              "25  [르블란서] 돈마호크 스테이크&머스터드 소스 세트  신*리     1   \n",
              "26  [르블란서] 돈마호크 스테이크&머스터드 소스 세트  이*호     1   \n",
              "27  [르블란서] 돈마호크 스테이크&머스터드 소스 세트  강*경     1   \n",
              "28  [르블란서] 돈마호크 스테이크&머스터드 소스 세트  김*은     1   \n",
              "29  [르블란서] 돈마호크 스테이크&머스터드 소스 세트  이*연     0   \n",
              "\n",
              "                                              content  emb_content  \n",
              "0    지난번 괜찮었던 기억으로 재구매 했는데 다른 브랜드였나 싶게 기름이 많어도 늠~ 많아요            0  \n",
              "1   이전에 먹었는데 맛있어서 재구매합니다. 전에는 고기가 두꺼운데 팬에 굽느라 냄새도 ...            0  \n",
              "2                            정망 맛있게 먹었어요 부모님도 좋아하시네요~            0  \n",
              "3                                    더니 너무 잘 먹어 또 쥬문요            0  \n",
              "4                맛은 괜찮아요 근데 지방이 좀 많네요. 에어프라이어 돌려 드세요.            0  \n",
              "5   기름기가 많아 그런지 고기가 맛은 좋아요. 남편은 느끼하다는데 퍽퍽한 고기보다 훨씬...            0  \n",
              "6                                       너무 퍽퍽한 느낌..,ㅜ            0  \n",
              "7   여름엔 배달로 버티다 선선해져서 에프좀 키려구요ㅎ 요거 맛있는데 에프에 해도 느끼함...            0  \n",
              "8                                   육질은 좋아요 비계가 좀 많아요            0  \n",
              "9                                        기름이 너무 많아요ㅜㅜ            0  \n",
              "10                                소스도 너무 맛잇고 고기도 연해요!            0  \n",
              "11                                   에프에 돌려 먹었어요 맛있어요            0  \n",
              "12                               자주먹던건데 오랜만에 재주문 했어요.            0  \n",
              "13                                  르블란서 안 가도 될 듯 합니다            0  \n",
              "14  잘 해동해서 설명해도 에어프라이어에 20분, 뒤집어서 10분 굽고 뒤집어서 구울때 ...            0  \n",
              "15  부위가 지방많은 곳인가요. 평보니 기름 많다는 평이 많네요. 구위면 비주얼이 괜찮은...            0  \n",
              "16  이거 거의 기름 덩어리 아닌가요? 후기가 좋다고 해서 샀는데 ㅠㅠ 해동했는데 먹고싶...            0  \n",
              "17                                냉면하고 같이 먹으면 더 맛있답니다            0  \n",
              "18  양도 많고 고기가 많이 부드러워요 같이 들어있는 소스도 너무 잘어울려서 자주 사먹어...            0  \n",
              "19                                      맛있게 잘 먹었어요:-)            0  \n",
              "20                                 주말에 항정살이랑 해먹어보려구요ㅎ            0  \n",
              "21                          살짝 많이 느끼하긴한데 맛나요 겉바속촉의 정석            0  \n",
              "22  에프에 바삭하게 구우면 겉은바삭 안은 육즙이 가득입니다. 근데 둘레?부분빼고는 완전...            0  \n",
              "23  에프에 설명대로 구우면 겉바속촉 고기는 너무맛있어요. 다만 동봉된 소스가 너무 짭니다..            0  \n",
              "24                             두꺼워서 익히긴 어려웠지만 맛은 있었어요            0  \n",
              "25                                         살도 많고 좋습니다            0  \n",
              "26                                        돈마호크 먹기 좋네요            0  \n",
              "27                                       맛있는 스테이크 즐겨요            0  \n",
              "28                                 맛잇고 기름져요 증량에 도움됩니당            0  \n",
              "29                                         양은 좀 적어요ㅜㅜ            0  "
            ]
          },
          "execution_count": 39,
          "metadata": {},
          "output_type": "execute_result"
        }
      ],
      "source": [
        "df['star'] = sentiment\n",
        "df[:30]"
      ]
    },
    {
      "cell_type": "code",
      "execution_count": null,
      "metadata": {},
      "outputs": [],
      "source": []
    }
  ],
  "metadata": {
    "accelerator": "GPU",
    "colab": {
      "collapsed_sections": [],
      "name": "sentence-bert.ipynb",
      "provenance": []
    },
    "interpreter": {
      "hash": "ace3e1ad7af0847684bd297f2968649b4d96ae2f627f328ee2eafd305163f7dc"
    },
    "kernelspec": {
      "display_name": "Python 3.8.12 64-bit ('rjs': conda)",
      "name": "python3"
    },
    "language_info": {
      "codemirror_mode": {
        "name": "ipython",
        "version": 3
      },
      "file_extension": ".py",
      "mimetype": "text/x-python",
      "name": "python",
      "nbconvert_exporter": "python",
      "pygments_lexer": "ipython3",
      "version": "3.8.12"
    }
  },
  "nbformat": 4,
  "nbformat_minor": 0
}
