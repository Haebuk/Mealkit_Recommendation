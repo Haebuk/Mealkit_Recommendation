{
 "cells": [
  {
   "cell_type": "code",
   "execution_count": 15,
   "metadata": {},
   "outputs": [],
   "source": [
    "from fastFM import sgd, als\n",
    "import numpy as np\n",
    "from utils.data_frame import DataFrame\n",
    "import scipy\n",
    "from sklearn.metrics import mean_squared_error\n",
    "from sklearn.model_selection import train_test_split"
   ]
  },
  {
   "cell_type": "code",
   "execution_count": 8,
   "metadata": {},
   "outputs": [
    {
     "name": "stderr",
     "output_type": "stream",
     "text": [
      "brand&category: 100%|██████████| 12705/12705 [00:03<00:00, 3784.84it/s]\n",
      "더미 변수 변환 중...: 100%|██████████| 4/4 [00:03<00:00,  1.03it/s]\n"
     ]
    },
    {
     "name": "stdout",
     "output_type": "stream",
     "text": [
      "(12705, 4168)\n"
     ]
    },
    {
     "data": {
      "text/html": [
       "<div>\n",
       "<style scoped>\n",
       "    .dataframe tbody tr th:only-of-type {\n",
       "        vertical-align: middle;\n",
       "    }\n",
       "\n",
       "    .dataframe tbody tr th {\n",
       "        vertical-align: top;\n",
       "    }\n",
       "\n",
       "    .dataframe thead th {\n",
       "        text-align: right;\n",
       "    }\n",
       "</style>\n",
       "<table border=\"1\" class=\"dataframe\">\n",
       "  <thead>\n",
       "    <tr style=\"text-align: right;\">\n",
       "      <th></th>\n",
       "      <th>**********</th>\n",
       "      <th>007*******</th>\n",
       "      <th>011*******</th>\n",
       "      <th>018*******</th>\n",
       "      <th>01e*******</th>\n",
       "      <th>01h*******</th>\n",
       "      <th>02c*******</th>\n",
       "      <th>02n*******</th>\n",
       "      <th>041*******</th>\n",
       "      <th>048*******</th>\n",
       "      <th>...</th>\n",
       "      <th>프레시지</th>\n",
       "      <th>피양옥</th>\n",
       "      <th>피코크</th>\n",
       "      <th>하늘농가</th>\n",
       "      <th>한국야쿠르트</th>\n",
       "      <th>홈쿡</th>\n",
       "      <th>웨스턴</th>\n",
       "      <th>일식_아시안</th>\n",
       "      <th>중식</th>\n",
       "      <th>한식</th>\n",
       "    </tr>\n",
       "  </thead>\n",
       "  <tbody>\n",
       "    <tr>\n",
       "      <th>0</th>\n",
       "      <td>0</td>\n",
       "      <td>0</td>\n",
       "      <td>0</td>\n",
       "      <td>0</td>\n",
       "      <td>0</td>\n",
       "      <td>0</td>\n",
       "      <td>0</td>\n",
       "      <td>0</td>\n",
       "      <td>0</td>\n",
       "      <td>0</td>\n",
       "      <td>...</td>\n",
       "      <td>0</td>\n",
       "      <td>0</td>\n",
       "      <td>0</td>\n",
       "      <td>0</td>\n",
       "      <td>0</td>\n",
       "      <td>0</td>\n",
       "      <td>1</td>\n",
       "      <td>0</td>\n",
       "      <td>0</td>\n",
       "      <td>0</td>\n",
       "    </tr>\n",
       "    <tr>\n",
       "      <th>1</th>\n",
       "      <td>0</td>\n",
       "      <td>0</td>\n",
       "      <td>0</td>\n",
       "      <td>0</td>\n",
       "      <td>0</td>\n",
       "      <td>0</td>\n",
       "      <td>0</td>\n",
       "      <td>0</td>\n",
       "      <td>0</td>\n",
       "      <td>0</td>\n",
       "      <td>...</td>\n",
       "      <td>0</td>\n",
       "      <td>0</td>\n",
       "      <td>0</td>\n",
       "      <td>0</td>\n",
       "      <td>0</td>\n",
       "      <td>0</td>\n",
       "      <td>1</td>\n",
       "      <td>0</td>\n",
       "      <td>0</td>\n",
       "      <td>0</td>\n",
       "    </tr>\n",
       "    <tr>\n",
       "      <th>2</th>\n",
       "      <td>0</td>\n",
       "      <td>0</td>\n",
       "      <td>0</td>\n",
       "      <td>0</td>\n",
       "      <td>0</td>\n",
       "      <td>0</td>\n",
       "      <td>0</td>\n",
       "      <td>0</td>\n",
       "      <td>0</td>\n",
       "      <td>0</td>\n",
       "      <td>...</td>\n",
       "      <td>0</td>\n",
       "      <td>0</td>\n",
       "      <td>0</td>\n",
       "      <td>0</td>\n",
       "      <td>0</td>\n",
       "      <td>0</td>\n",
       "      <td>1</td>\n",
       "      <td>0</td>\n",
       "      <td>0</td>\n",
       "      <td>0</td>\n",
       "    </tr>\n",
       "    <tr>\n",
       "      <th>3</th>\n",
       "      <td>0</td>\n",
       "      <td>0</td>\n",
       "      <td>0</td>\n",
       "      <td>0</td>\n",
       "      <td>0</td>\n",
       "      <td>0</td>\n",
       "      <td>0</td>\n",
       "      <td>0</td>\n",
       "      <td>0</td>\n",
       "      <td>0</td>\n",
       "      <td>...</td>\n",
       "      <td>0</td>\n",
       "      <td>0</td>\n",
       "      <td>0</td>\n",
       "      <td>0</td>\n",
       "      <td>0</td>\n",
       "      <td>0</td>\n",
       "      <td>1</td>\n",
       "      <td>0</td>\n",
       "      <td>0</td>\n",
       "      <td>0</td>\n",
       "    </tr>\n",
       "    <tr>\n",
       "      <th>4</th>\n",
       "      <td>0</td>\n",
       "      <td>0</td>\n",
       "      <td>0</td>\n",
       "      <td>0</td>\n",
       "      <td>0</td>\n",
       "      <td>0</td>\n",
       "      <td>0</td>\n",
       "      <td>0</td>\n",
       "      <td>0</td>\n",
       "      <td>0</td>\n",
       "      <td>...</td>\n",
       "      <td>0</td>\n",
       "      <td>0</td>\n",
       "      <td>0</td>\n",
       "      <td>0</td>\n",
       "      <td>0</td>\n",
       "      <td>0</td>\n",
       "      <td>1</td>\n",
       "      <td>0</td>\n",
       "      <td>0</td>\n",
       "      <td>0</td>\n",
       "    </tr>\n",
       "  </tbody>\n",
       "</table>\n",
       "<p>5 rows × 4168 columns</p>\n",
       "</div>"
      ],
      "text/plain": [
       "   **********  007*******  011*******  018*******  01e*******  01h*******  \\\n",
       "0           0           0           0           0           0           0   \n",
       "1           0           0           0           0           0           0   \n",
       "2           0           0           0           0           0           0   \n",
       "3           0           0           0           0           0           0   \n",
       "4           0           0           0           0           0           0   \n",
       "\n",
       "   02c*******  02n*******  041*******  048*******  ...  프레시지  피양옥  피코크  하늘농가  \\\n",
       "0           0           0           0           0  ...     0    0    0     0   \n",
       "1           0           0           0           0  ...     0    0    0     0   \n",
       "2           0           0           0           0  ...     0    0    0     0   \n",
       "3           0           0           0           0  ...     0    0    0     0   \n",
       "4           0           0           0           0  ...     0    0    0     0   \n",
       "\n",
       "   한국야쿠르트  홈쿡   웨스턴  일식_아시안  중식  한식  \n",
       "0       0    0    1       0   0   0  \n",
       "1       0    0    1       0   0   0  \n",
       "2       0    0    1       0   0   0  \n",
       "3       0    0    1       0   0   0  \n",
       "4       0    0    1       0   0   0  \n",
       "\n",
       "[5 rows x 4168 columns]"
      ]
     },
     "execution_count": 8,
     "metadata": {},
     "output_type": "execute_result"
    }
   ],
   "source": [
    "emart_df = DataFrame('이마트몰').get_FMdata()\n",
    "print(emart_df.shape)\n",
    "emart_df.head()"
   ]
  },
  {
   "cell_type": "code",
   "execution_count": 9,
   "metadata": {},
   "outputs": [
    {
     "name": "stdout",
     "output_type": "stream",
     "text": [
      "(12705, 4)\n"
     ]
    },
    {
     "data": {
      "text/html": [
       "<div>\n",
       "<style scoped>\n",
       "    .dataframe tbody tr th:only-of-type {\n",
       "        vertical-align: middle;\n",
       "    }\n",
       "\n",
       "    .dataframe tbody tr th {\n",
       "        vertical-align: top;\n",
       "    }\n",
       "\n",
       "    .dataframe thead th {\n",
       "        text-align: right;\n",
       "    }\n",
       "</style>\n",
       "<table border=\"1\" class=\"dataframe\">\n",
       "  <thead>\n",
       "    <tr style=\"text-align: right;\">\n",
       "      <th></th>\n",
       "      <th>name</th>\n",
       "      <th>user</th>\n",
       "      <th>star</th>\n",
       "      <th>content</th>\n",
       "    </tr>\n",
       "  </thead>\n",
       "  <tbody>\n",
       "    <tr>\n",
       "      <th>0</th>\n",
       "      <td>모짜렐라 비프라자냐</td>\n",
       "      <td>moo*******</td>\n",
       "      <td>3</td>\n",
       "      <td>흠.. 나는 질보다 양이다 vs ●나는 양보다 질이다● 둘중 어느부류신가요? 이질문...</td>\n",
       "    </tr>\n",
       "    <tr>\n",
       "      <th>1</th>\n",
       "      <td>모짜렐라 비프라자냐</td>\n",
       "      <td>jks*******</td>\n",
       "      <td>4</td>\n",
       "      <td>조리법이 아주 간단해서 만족합니다.토마토스파게티 소스에 소고기를 볶은 것 같은데 아...</td>\n",
       "    </tr>\n",
       "    <tr>\n",
       "      <th>2</th>\n",
       "      <td>모짜렐라 비프라자냐</td>\n",
       "      <td>des*******</td>\n",
       "      <td>5</td>\n",
       "      <td>상품이 떨어졌었는지, 플라스틱이 깨져왔지만, 분명 새상품 임에도 박스 밑쪽에 음식찌...</td>\n",
       "    </tr>\n",
       "    <tr>\n",
       "      <th>3</th>\n",
       "      <td>모짜렐라 비프라자냐</td>\n",
       "      <td>pia*******</td>\n",
       "      <td>4</td>\n",
       "      <td>전자렌지에 좀 녹인 후 위에 비닐 떼고 오븐에 돌렸어요. 맛이 괜찮긴 한데 기대했던...</td>\n",
       "    </tr>\n",
       "    <tr>\n",
       "      <th>4</th>\n",
       "      <td>모짜렐라 비프라자냐</td>\n",
       "      <td>tae*******</td>\n",
       "      <td>5</td>\n",
       "      <td>파스타는 쉽게 해먹는데 라자냐는 쉽게 해먹기는 어렵잖아요. 할인 하길래 한번 사봤는...</td>\n",
       "    </tr>\n",
       "  </tbody>\n",
       "</table>\n",
       "</div>"
      ],
      "text/plain": [
       "         name        user star  \\\n",
       "0  모짜렐라 비프라자냐  moo*******    3   \n",
       "1  모짜렐라 비프라자냐  jks*******    4   \n",
       "2  모짜렐라 비프라자냐  des*******    5   \n",
       "3  모짜렐라 비프라자냐  pia*******    4   \n",
       "4  모짜렐라 비프라자냐  tae*******    5   \n",
       "\n",
       "                                             content  \n",
       "0  흠.. 나는 질보다 양이다 vs ●나는 양보다 질이다● 둘중 어느부류신가요? 이질문...  \n",
       "1  조리법이 아주 간단해서 만족합니다.토마토스파게티 소스에 소고기를 볶은 것 같은데 아...  \n",
       "2  상품이 떨어졌었는지, 플라스틱이 깨져왔지만, 분명 새상품 임에도 박스 밑쪽에 음식찌...  \n",
       "3  전자렌지에 좀 녹인 후 위에 비닐 떼고 오븐에 돌렸어요. 맛이 괜찮긴 한데 기대했던...  \n",
       "4  파스타는 쉽게 해먹는데 라자냐는 쉽게 해먹기는 어렵잖아요. 할인 하길래 한번 사봤는...  "
      ]
     },
     "execution_count": 9,
     "metadata": {},
     "output_type": "execute_result"
    }
   ],
   "source": [
    "emart_review = DataFrame('이마트몰', '리뷰').get_df()\n",
    "print(emart_review.shape)\n",
    "emart_review.head()"
   ]
  },
  {
   "cell_type": "code",
   "execution_count": 13,
   "metadata": {},
   "outputs": [
    {
     "name": "stdout",
     "output_type": "stream",
     "text": [
      "(10164, 4168)\n",
      "(2541, 4168)\n",
      "(10164,)\n",
      "(2541,)\n"
     ]
    }
   ],
   "source": [
    "X_csc_sparse = scipy.sparse.csc_matrix(emart_df.values)\n",
    "y = emart_review['star']\n",
    "\n",
    "X_train_sparse, X_test_sparse, y_train, y_test = train_test_split(X_csc_sparse, y, test_size=0.2, random_state=42, shuffle=True)\n",
    "print(X_train_sparse.shape)\n",
    "print(X_test_sparse.shape)\n",
    "print(y_train.shape)\n",
    "print(y_test.shape)"
   ]
  },
  {
   "cell_type": "code",
   "execution_count": 16,
   "metadata": {},
   "outputs": [
    {
     "data": {
      "text/plain": [
       "FMRegression(l2_reg_V=0.01, l2_reg_w=0.01, n_iter=10, rank=10)"
      ]
     },
     "execution_count": 16,
     "metadata": {},
     "output_type": "execute_result"
    }
   ],
   "source": [
    "fm = sgd.FMRegression(n_iter=10, init_stdev=0.1, rank=10, l2_reg_w=0.01, l2_reg_V=0.01)\n",
    "fm.fit(X_train_sparse, y_train.values)"
   ]
  },
  {
   "cell_type": "code",
   "execution_count": 17,
   "metadata": {},
   "outputs": [],
   "source": [
    "y_pred = fm.predict(X_test_sparse)"
   ]
  },
  {
   "cell_type": "code",
   "execution_count": 22,
   "metadata": {},
   "outputs": [
    {
     "data": {
      "text/plain": [
       "array(['3', '4', '5', ..., '5', '5', '5'], dtype=object)"
      ]
     },
     "execution_count": 22,
     "metadata": {},
     "output_type": "execute_result"
    }
   ],
   "source": [
    "y.values"
   ]
  },
  {
   "cell_type": "code",
   "execution_count": 19,
   "metadata": {},
   "outputs": [
    {
     "data": {
      "text/plain": [
       "array([2.45919627, 3.09591399, 3.07112361, ..., 3.03031356, 3.20858951,\n",
       "       3.46254945])"
      ]
     },
     "execution_count": 19,
     "metadata": {},
     "output_type": "execute_result"
    }
   ],
   "source": [
    "y_pred"
   ]
  },
  {
   "cell_type": "code",
   "execution_count": 20,
   "metadata": {},
   "outputs": [
    {
     "data": {
      "text/plain": [
       "3.2495612725997782"
      ]
     },
     "execution_count": 20,
     "metadata": {},
     "output_type": "execute_result"
    }
   ],
   "source": [
    "mean_squared_error(y_test, y_pred)"
   ]
  },
  {
   "cell_type": "code",
   "execution_count": null,
   "metadata": {},
   "outputs": [],
   "source": []
  }
 ],
 "metadata": {
  "interpreter": {
   "hash": "ace3e1ad7af0847684bd297f2968649b4d96ae2f627f328ee2eafd305163f7dc"
  },
  "kernelspec": {
   "display_name": "Python 3.8.12 64-bit ('rjs': conda)",
   "name": "python3"
  },
  "language_info": {
   "codemirror_mode": {
    "name": "ipython",
    "version": 3
   },
   "file_extension": ".py",
   "mimetype": "text/x-python",
   "name": "python",
   "nbconvert_exporter": "python",
   "pygments_lexer": "ipython3",
   "version": "3.8.12"
  },
  "orig_nbformat": 4
 },
 "nbformat": 4,
 "nbformat_minor": 2
}
