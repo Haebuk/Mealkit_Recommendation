{
 "cells": [
  {
   "cell_type": "code",
   "execution_count": 1,
   "source": [
    "import sys\r\n",
    "sys.path.append('../')\r\n",
    "from market_kurly.kurly_scrapping import Kurly_Scrapping\r\n",
    "\r\n",
    "kurly = Kurly_Scrapping()\r\n",
    "kurly.land_first_page()"
   ],
   "outputs": [],
   "metadata": {}
  }
 ],
 "metadata": {
  "orig_nbformat": 4,
  "language_info": {
   "name": "python",
   "version": "3.7.10",
   "mimetype": "text/x-python",
   "codemirror_mode": {
    "name": "ipython",
    "version": 3
   },
   "pygments_lexer": "ipython3",
   "nbconvert_exporter": "python",
   "file_extension": ".py"
  },
  "kernelspec": {
   "name": "python3",
   "display_name": "Python 3.7.10 64-bit ('tens_2g': conda)"
  },
  "interpreter": {
   "hash": "af338b71a225fdc0eb31ef84a3daefd281889f5e5aa9007927a8f410d35700fa"
  }
 },
 "nbformat": 4,
 "nbformat_minor": 2
}