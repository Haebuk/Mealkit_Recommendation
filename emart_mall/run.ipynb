{
 "cells": [
  {
   "cell_type": "code",
   "execution_count": null,
   "metadata": {},
   "outputs": [],
   "source": [
    "import time\n",
    "from selenium import webdriver"
   ]
  },
  {
   "cell_type": "code",
   "execution_count": null,
   "metadata": {},
   "outputs": [],
   "source": [
    "URL = 'http://emart.ssg.com/item/itemView.ssg?itemId=1000030889333&siteNo=6001&salestrNo=2034'\n",
    "driver = webdriver.Chrome('C:/chromedriver.exe')\n",
    "driver.get(URL)\n",
    "driver.implicitly_wait(5)\n",
    "\n",
    "button_box = driver.find_element_by_id('comment_navi_area') # 버튼박스\n",
    "reviews = [] # 리뷰를 저장할 리스트\n",
    "stars = []\n",
    "users = []\n",
    "for page in range(2, 3):\n",
    "    review_box = driver.find_element_by_id('cdtl_cmt_tbody') # 상품평 박스\n",
    "\n",
    "    user_list = review_box.find_elements_by_class_name('user') # 유저명\n",
    "    star_list = review_box.find_elements_by_class_name('star') # 평점\n",
    "    desc_txt = review_box.find_elements_by_class_name('desc_txt') # 리뷰. desc 바로 잡으면 10개가 더잡히기 때문에 한번 더 찾아줌\n",
    "\n",
    "    for i, (user, star, desc) in enumerate(zip(user_list, star_list, desc_txt)): # 리뷰 저장\n",
    "        users.append(user.text)\n",
    "        stars.append(star.text.split(' ')[-1][0])        \n",
    "        reviews.append(desc.text)\n",
    "\n",
    "    time.sleep(2)\n",
    "    button_box.find_element_by_link_text(str(page)).click()\n",
    "    time.sleep(2)\n"
   ]
  },
  {
   "cell_type": "code",
   "execution_count": null,
   "metadata": {},
   "outputs": [],
   "source": [
    "print(len(users), len(stars), len(reviews))\n"
   ]
  },
  {
   "cell_type": "code",
   "execution_count": null,
   "metadata": {},
   "outputs": [],
   "source": [
    "for user, star, review in zip(users, stars, reviews):\n",
    "    if review.split()[0] == '사진' or review.split()[0] == '비디오':\n",
    "        review = ' '.join(review.split()[1:])\n",
    "    print(user, star, review)\n",
    "    print(len(review))\n",
    "    print('')"
   ]
  }
 ],
 "metadata": {
  "interpreter": {
   "hash": "b3ba2566441a7c06988d0923437866b63cedc61552a5af99d1f4fb67d367b25f"
  },
  "kernelspec": {
   "display_name": "Python 3.7.10 64-bit ('base': conda)",
   "name": "python3"
  },
  "language_info": {
   "codemirror_mode": {
    "name": "ipython",
    "version": 3
   },
   "file_extension": ".py",
   "mimetype": "text/x-python",
   "name": "python",
   "nbconvert_exporter": "python",
   "pygments_lexer": "ipython3",
   "version": "3.7.10"
  },
  "orig_nbformat": 4
 },
 "nbformat": 4,
 "nbformat_minor": 2
}
