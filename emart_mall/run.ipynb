{
 "cells": [
  {
   "cell_type": "code",
   "execution_count": null,
   "source": [
    "import time\r\n",
    "from selenium import webdriver"
   ],
   "outputs": [],
   "metadata": {}
  },
  {
   "cell_type": "code",
   "execution_count": null,
   "source": [
    "URL = 'http://emart.ssg.com/item/itemView.ssg?itemId=1000030889333&siteNo=6001&salestrNo=2034'\r\n",
    "driver = webdriver.Chrome('C:/chromedriver.exe')\r\n",
    "driver.get(URL)\r\n",
    "driver.implicitly_wait(5)\r\n",
    "\r\n",
    "button_box = driver.find_element_by_id('comment_navi_area') # 버튼박스\r\n",
    "reviews = [] # 리뷰를 저장할 리스트\r\n",
    "stars = []\r\n",
    "users = []\r\n",
    "for page in range(2, 3):\r\n",
    "    review_box = driver.find_element_by_id('cdtl_cmt_tbody') # 상품평 박스\r\n",
    "\r\n",
    "    user_list = review_box.find_elements_by_class_name('user') # 유저명\r\n",
    "    star_list = review_box.find_elements_by_class_name('star') # 평점\r\n",
    "    desc_txt = review_box.find_elements_by_class_name('desc_txt') # 리뷰. desc 바로 잡으면 10개가 더잡히기 때문에 한번 더 찾아줌\r\n",
    "\r\n",
    "    for i, (user, star, desc) in enumerate(zip(user_list, star_list, desc_txt)): # 리뷰 저장\r\n",
    "        users.append(user.text)\r\n",
    "        stars.append(star.text.split(' ')[-1][0])        \r\n",
    "        reviews.append(desc.text)\r\n",
    "\r\n",
    "    time.sleep(2)\r\n",
    "    button_box.find_element_by_link_text(str(page)).click()\r\n",
    "    time.sleep(2)\r\n"
   ],
   "outputs": [],
   "metadata": {}
  },
  {
   "cell_type": "code",
   "execution_count": null,
   "source": [
    "print(len(users), len(stars), len(reviews))\r\n"
   ],
   "outputs": [],
   "metadata": {}
  },
  {
   "cell_type": "code",
   "execution_count": null,
   "source": [
    "for user, star, review in zip(users, stars, reviews):\r\n",
    "    if review.split()[0] == '사진' or review.split()[0] == '비디오':\r\n",
    "        review = ' '.join(review.split()[1:])\r\n",
    "    print(user, star, review)\r\n",
    "    print(len(review))\r\n",
    "    print('')"
   ],
   "outputs": [],
   "metadata": {}
  }
 ],
 "metadata": {
  "orig_nbformat": 4,
  "language_info": {
   "name": "python",
   "version": "3.7.10",
   "mimetype": "text/x-python",
   "codemirror_mode": {
    "name": "ipython",
    "version": 3
   },
   "pygments_lexer": "ipython3",
   "nbconvert_exporter": "python",
   "file_extension": ".py"
  },
  "kernelspec": {
   "name": "python3",
   "display_name": "Python 3.7.10 64-bit ('base': conda)"
  },
  "interpreter": {
   "hash": "b3ba2566441a7c06988d0923437866b63cedc61552a5af99d1f4fb67d367b25f"
  }
 },
 "nbformat": 4,
 "nbformat_minor": 2
}