{
 "cells": [
  {
   "cell_type": "code",
   "execution_count": 42,
   "metadata": {},
   "outputs": [],
   "source": [
    "import json\n",
    "from data_to_json import DataToJson\n",
    "import pandas as pd"
   ]
  },
  {
   "cell_type": "code",
   "execution_count": 43,
   "metadata": {},
   "outputs": [
    {
     "data": {
      "text/html": [
       "<div>\n",
       "<style scoped>\n",
       "    .dataframe tbody tr th:only-of-type {\n",
       "        vertical-align: middle;\n",
       "    }\n",
       "\n",
       "    .dataframe tbody tr th {\n",
       "        vertical-align: top;\n",
       "    }\n",
       "\n",
       "    .dataframe thead th {\n",
       "        text-align: right;\n",
       "    }\n",
       "</style>\n",
       "<table border=\"1\" class=\"dataframe\">\n",
       "  <thead>\n",
       "    <tr style=\"text-align: right;\">\n",
       "      <th></th>\n",
       "      <th>name</th>\n",
       "      <th>storeName</th>\n",
       "      <th>category</th>\n",
       "      <th>brand</th>\n",
       "      <th>price</th>\n",
       "      <th>thumbnailUrl</th>\n",
       "      <th>contentUrl</th>\n",
       "      <th>isSoldOut</th>\n",
       "      <th>detail</th>\n",
       "    </tr>\n",
       "  </thead>\n",
       "  <tbody>\n",
       "    <tr>\n",
       "      <th>0</th>\n",
       "      <td>[프레시지] 열정도 쭈꾸미삼겹살</td>\n",
       "      <td>마켓컬리</td>\n",
       "      <td></td>\n",
       "      <td>프레시지</td>\n",
       "      <td>7900</td>\n",
       "      <td>https://img-cf.kurly.com/shop/data/goods/16335...</td>\n",
       "      <td>https://www.kurly.com/shop/goods/goods_view.ph...</td>\n",
       "      <td>False</td>\n",
       "      <td>청년 사업가들이 용산의 상권을 살리고자 모여 만든 거리, 열정도는 젊은 감각과 활기...</td>\n",
       "    </tr>\n",
       "    <tr>\n",
       "      <th>1</th>\n",
       "      <td>[르블란서] 돈마호크 스테이크&amp;머스터드 소스 세트</td>\n",
       "      <td>마켓컬리</td>\n",
       "      <td></td>\n",
       "      <td>르블란서</td>\n",
       "      <td>12900</td>\n",
       "      <td>https://img-cf.kurly.com/shop/data/goods/15997...</td>\n",
       "      <td>https://www.kurly.com/shop/goods/goods_view.ph...</td>\n",
       "      <td>False</td>\n",
       "      <td>익선동 한옥에서 우리 입맛에 맞는 프랑스 요리를 선보이는 곳, 르블란서가 간편하고 ...</td>\n",
       "    </tr>\n",
       "    <tr>\n",
       "      <th>2</th>\n",
       "      <td>[일품식탁] 멸치조림 꼬마김밥세트</td>\n",
       "      <td>마켓컬리</td>\n",
       "      <td></td>\n",
       "      <td>일품식탁</td>\n",
       "      <td>5900</td>\n",
       "      <td>https://img-cf.kurly.com/shop/data/goods/16046...</td>\n",
       "      <td>https://www.kurly.com/shop/goods/goods_view.ph...</td>\n",
       "      <td>False</td>\n",
       "      <td>한 입에 쏘옥 들어가는 꼬마 김밥은 아이들 간식으로도, 간단히 챙기는 식사로도 그만...</td>\n",
       "    </tr>\n",
       "    <tr>\n",
       "      <th>3</th>\n",
       "      <td>[풍요한아침] 화이트 오믈렛 500g</td>\n",
       "      <td>마켓컬리</td>\n",
       "      <td></td>\n",
       "      <td>풍요한아침</td>\n",
       "      <td>8900</td>\n",
       "      <td>https://img-cf.kurly.com/shop/data/goods/16345...</td>\n",
       "      <td>https://www.kurly.com/shop/goods/goods_view.ph...</td>\n",
       "      <td>False</td>\n",
       "      <td>달걀 흰자는 식단 관리하는 분들에게 인기 있는 식재료이죠. 컬리가 준비한 풍요한아침...</td>\n",
       "    </tr>\n",
       "    <tr>\n",
       "      <th>4</th>\n",
       "      <td>[풍요한아침] 야채 오믈렛 500g</td>\n",
       "      <td>마켓컬리</td>\n",
       "      <td></td>\n",
       "      <td>풍요한아침</td>\n",
       "      <td>8900</td>\n",
       "      <td>https://img-cf.kurly.com/shop/data/goods/16345...</td>\n",
       "      <td>https://www.kurly.com/shop/goods/goods_view.ph...</td>\n",
       "      <td>False</td>\n",
       "      <td>달걀 흰자는 식단 관리하는 분들에게 인기 있는 식재료이죠. 컬리가 준비한 풍요한아침...</td>\n",
       "    </tr>\n",
       "  </tbody>\n",
       "</table>\n",
       "</div>"
      ],
      "text/plain": [
       "                          name storeName category  brand  price  \\\n",
       "0            [프레시지] 열정도 쭈꾸미삼겹살      마켓컬리            프레시지   7900   \n",
       "1  [르블란서] 돈마호크 스테이크&머스터드 소스 세트      마켓컬리            르블란서  12900   \n",
       "2           [일품식탁] 멸치조림 꼬마김밥세트      마켓컬리            일품식탁   5900   \n",
       "3         [풍요한아침] 화이트 오믈렛 500g      마켓컬리           풍요한아침   8900   \n",
       "4          [풍요한아침] 야채 오믈렛 500g      마켓컬리           풍요한아침   8900   \n",
       "\n",
       "                                        thumbnailUrl  \\\n",
       "0  https://img-cf.kurly.com/shop/data/goods/16335...   \n",
       "1  https://img-cf.kurly.com/shop/data/goods/15997...   \n",
       "2  https://img-cf.kurly.com/shop/data/goods/16046...   \n",
       "3  https://img-cf.kurly.com/shop/data/goods/16345...   \n",
       "4  https://img-cf.kurly.com/shop/data/goods/16345...   \n",
       "\n",
       "                                          contentUrl  isSoldOut  \\\n",
       "0  https://www.kurly.com/shop/goods/goods_view.ph...      False   \n",
       "1  https://www.kurly.com/shop/goods/goods_view.ph...      False   \n",
       "2  https://www.kurly.com/shop/goods/goods_view.ph...      False   \n",
       "3  https://www.kurly.com/shop/goods/goods_view.ph...      False   \n",
       "4  https://www.kurly.com/shop/goods/goods_view.ph...      False   \n",
       "\n",
       "                                              detail  \n",
       "0  청년 사업가들이 용산의 상권을 살리고자 모여 만든 거리, 열정도는 젊은 감각과 활기...  \n",
       "1  익선동 한옥에서 우리 입맛에 맞는 프랑스 요리를 선보이는 곳, 르블란서가 간편하고 ...  \n",
       "2  한 입에 쏘옥 들어가는 꼬마 김밥은 아이들 간식으로도, 간단히 챙기는 식사로도 그만...  \n",
       "3  달걀 흰자는 식단 관리하는 분들에게 인기 있는 식재료이죠. 컬리가 준비한 풍요한아침...  \n",
       "4  달걀 흰자는 식단 관리하는 분들에게 인기 있는 식재료이죠. 컬리가 준비한 풍요한아침...  "
      ]
     },
     "execution_count": 43,
     "metadata": {},
     "output_type": "execute_result"
    }
   ],
   "source": [
    "info = pd.read_json('../data/마켓컬리정보_1024.json', orient='records')\n",
    "info.head()"
   ]
  },
  {
   "cell_type": "code",
   "execution_count": 44,
   "metadata": {},
   "outputs": [
    {
     "name": "stdout",
     "output_type": "stream",
     "text": [
      "<class 'pandas.core.frame.DataFrame'>\n",
      "RangeIndex: 322 entries, 0 to 321\n",
      "Data columns (total 9 columns):\n",
      " #   Column        Non-Null Count  Dtype \n",
      "---  ------        --------------  ----- \n",
      " 0   name          322 non-null    object\n",
      " 1   storeName     322 non-null    object\n",
      " 2   category      322 non-null    object\n",
      " 3   brand         322 non-null    object\n",
      " 4   price         322 non-null    int64 \n",
      " 5   thumbnailUrl  322 non-null    object\n",
      " 6   contentUrl    322 non-null    object\n",
      " 7   isSoldOut     322 non-null    bool  \n",
      " 8   detail        322 non-null    object\n",
      "dtypes: bool(1), int64(1), object(7)\n",
      "memory usage: 20.6+ KB\n"
     ]
    }
   ],
   "source": [
    "info.info()"
   ]
  },
  {
   "cell_type": "code",
   "execution_count": 45,
   "metadata": {},
   "outputs": [
    {
     "data": {
      "text/plain": [
       "[하림] 태양초 닭볶음탕 밀키트          3\n",
       "[정미경키친] 직접 만드는 어묵볶음 밀키트    3\n",
       "[마켓컬리x차알] 차돌 마라탕면          2\n",
       "[풍요한아침] 골드 오믈렛 100g        2\n",
       "[신사동백반] 도톰한 고등어 묵은지조림      2\n",
       "                          ..\n",
       "[Everyday] 잡채 (냉동)         1\n",
       "[마이셰프] 볼케이노 샤브 전골          1\n",
       "[킨더가든] 어린이 볶음밥용 새우 채소볶음    1\n",
       "[마이셰프] 군산식 일품 아귀찜          1\n",
       "[김구원선생] 우삼겹 순두부찌개          1\n",
       "Name: name, Length: 269, dtype: int64"
      ]
     },
     "execution_count": 45,
     "metadata": {},
     "output_type": "execute_result"
    }
   ],
   "source": [
    "info['name'].value_counts()"
   ]
  },
  {
   "cell_type": "code",
   "execution_count": 46,
   "metadata": {},
   "outputs": [
    {
     "data": {
      "text/plain": [
       "Int64Index([212, 215, 216, 217, 219, 220, 221, 222, 223, 225, 227, 229, 230,\n",
       "            231, 232, 233, 235, 236, 238, 239, 241, 244, 245, 251, 252, 253,\n",
       "            255, 257, 258, 261, 262, 264, 272, 273, 274, 277, 278, 282, 283,\n",
       "            285, 287, 289, 290, 293, 294, 296, 297, 305, 306, 307, 311, 312,\n",
       "            317],\n",
       "           dtype='int64')"
      ]
     },
     "execution_count": 46,
     "metadata": {},
     "output_type": "execute_result"
    }
   ],
   "source": [
    "duplicated_idx = info[info.duplicated(['name'])].index\n",
    "duplicated_idx"
   ]
  },
  {
   "cell_type": "code",
   "execution_count": 47,
   "metadata": {},
   "outputs": [
    {
     "data": {
      "text/plain": [
       "[프레시지] 열정도 쭈꾸미삼겹살          1\n",
       "[빌라드서울] 맛있는 닭갈비            1\n",
       "[최현석의 중앙감속기] 발사믹 꿔바로우      1\n",
       "[마이셰프] 소고기고추잡채 & 꽃빵        1\n",
       "[진가네반찬] 계란말이               1\n",
       "                          ..\n",
       "[진가] 진생용의 마라두부             1\n",
       "[Everyday] 잡채 (냉동)         1\n",
       "[마이셰프] 볼케이노 샤브 전골          1\n",
       "[킨더가든] 어린이 볶음밥용 새우 채소볶음    1\n",
       "[김구원선생] 우삼겹 순두부찌개          1\n",
       "Name: name, Length: 269, dtype: int64"
      ]
     },
     "execution_count": 47,
     "metadata": {},
     "output_type": "execute_result"
    }
   ],
   "source": [
    "# 마켓컬리 정보 중복 제거\n",
    "info.drop_duplicates(subset=['name'], keep='first', inplace=True)\n",
    "info['name'].value_counts()"
   ]
  },
  {
   "cell_type": "code",
   "execution_count": 48,
   "metadata": {},
   "outputs": [],
   "source": [
    "# 마켓컬리 리뷰 중복 제거\n",
    "with open('../data/마켓컬리리뷰_1024.json', 'r', encoding='utf-8') as f:\n",
    "    reviews = json.load(f)\n",
    "names = []\n",
    "review_drop_duplicates = []\n",
    "for i, review in enumerate(reviews):\n",
    "    if review['name'] not in names:\n",
    "        names.append(review['name'])\n",
    "        review_drop_duplicates.append(review)\n",
    "\n",
    "with open('../data/마켓컬리리뷰_1024_drop_duplicates.json', 'w', encoding='utf-8') as f:\n",
    "    json.dump(review_drop_duplicates, f, ensure_ascii=False, indent=4)"
   ]
  },
  {
   "cell_type": "code",
   "execution_count": 50,
   "metadata": {},
   "outputs": [
    {
     "name": "stdout",
     "output_type": "stream",
     "text": [
      "269 269\n"
     ]
    }
   ],
   "source": [
    "print(len(info), len(review_drop_duplicates))"
   ]
  }
 ],
 "metadata": {
  "interpreter": {
   "hash": "ace3e1ad7af0847684bd297f2968649b4d96ae2f627f328ee2eafd305163f7dc"
  },
  "kernelspec": {
   "display_name": "Python 3.8.12 64-bit ('rjs': conda)",
   "name": "python3"
  },
  "language_info": {
   "codemirror_mode": {
    "name": "ipython",
    "version": 3
   },
   "file_extension": ".py",
   "mimetype": "text/x-python",
   "name": "python",
   "nbconvert_exporter": "python",
   "pygments_lexer": "ipython3",
   "version": "3.8.12"
  },
  "orig_nbformat": 4
 },
 "nbformat": 4,
 "nbformat_minor": 2
}
