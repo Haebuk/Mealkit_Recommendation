{
 "cells": [
  {
   "cell_type": "code",
   "execution_count": 1,
   "metadata": {},
   "outputs": [],
   "source": [
    "from data_to_json import DataToJson\n",
    "import pandas as pd"
   ]
  },
  {
   "cell_type": "code",
   "execution_count": 2,
   "metadata": {},
   "outputs": [
    {
     "data": {
      "text/html": [
       "<div>\n",
       "<style scoped>\n",
       "    .dataframe tbody tr th:only-of-type {\n",
       "        vertical-align: middle;\n",
       "    }\n",
       "\n",
       "    .dataframe tbody tr th {\n",
       "        vertical-align: top;\n",
       "    }\n",
       "\n",
       "    .dataframe thead th {\n",
       "        text-align: right;\n",
       "    }\n",
       "</style>\n",
       "<table border=\"1\" class=\"dataframe\">\n",
       "  <thead>\n",
       "    <tr style=\"text-align: right;\">\n",
       "      <th></th>\n",
       "      <th>name</th>\n",
       "      <th>storeName</th>\n",
       "      <th>category</th>\n",
       "      <th>brand</th>\n",
       "      <th>price</th>\n",
       "      <th>thumbnailUrl</th>\n",
       "      <th>contentUrl</th>\n",
       "      <th>isSoldOut</th>\n",
       "      <th>detail</th>\n",
       "    </tr>\n",
       "  </thead>\n",
       "  <tbody>\n",
       "    <tr>\n",
       "      <th>0</th>\n",
       "      <td>[Everyday] 군산갑오징어 삼겹살볶음 (냉동)</td>\n",
       "      <td>마켓컬리</td>\n",
       "      <td>한식</td>\n",
       "      <td>Everyday</td>\n",
       "      <td>13500</td>\n",
       "      <td>https://img-cf.kurly.com/shop/data/goods/16270...</td>\n",
       "      <td>https://www.kurly.com/shop/goods/goods_view.ph...</td>\n",
       "      <td>False</td>\n",
       "      <td>오징어와 삼겹살의 만남은 낯설지 않아요. 오삼불고기라는 이름으로 직장인의 점심이나 ...</td>\n",
       "    </tr>\n",
       "    <tr>\n",
       "      <th>1</th>\n",
       "      <td>[콜린스 다이닝] 뿌리채소 비건만두</td>\n",
       "      <td>마켓컬리</td>\n",
       "      <td>한식</td>\n",
       "      <td>콜린스 다이닝</td>\n",
       "      <td>5100</td>\n",
       "      <td>https://img-cf.kurly.com/shop/data/goods/16246...</td>\n",
       "      <td>https://www.kurly.com/shop/goods/goods_view.ph...</td>\n",
       "      <td>False</td>\n",
       "      <td>채식을 실천 중인 분들도 맛있게 즐길 수 있는 콜린스 다이닝의 뿌리채소 비건만두를 ...</td>\n",
       "    </tr>\n",
       "    <tr>\n",
       "      <th>2</th>\n",
       "      <td>[강민구셰프의 밍글스] 대게장 새우 먹물 파스타</td>\n",
       "      <td>마켓컬리</td>\n",
       "      <td>웨스턴</td>\n",
       "      <td>강민구셰프의 밍글스</td>\n",
       "      <td>12500</td>\n",
       "      <td>https://img-cf.kurly.com/shop/data/goods/16203...</td>\n",
       "      <td>https://www.kurly.com/shop/goods/goods_view.ph...</td>\n",
       "      <td>False</td>\n",
       "      <td>미쉐린 2스타에 빛나는 청담동의 파인다이닝 레스토랑, 강민구 셰프의 밍글스가 색다른...</td>\n",
       "    </tr>\n",
       "    <tr>\n",
       "      <th>3</th>\n",
       "      <td>[마이셰프] 찹스테이크</td>\n",
       "      <td>마켓컬리</td>\n",
       "      <td>웨스턴</td>\n",
       "      <td>마이셰프</td>\n",
       "      <td>12900</td>\n",
       "      <td>https://img-cf.kurly.com/shop/data/goods/16149...</td>\n",
       "      <td>https://www.kurly.com/shop/goods/goods_view.ph...</td>\n",
       "      <td>False</td>\n",
       "      <td>좋은 식재료로 손쉽게 멋진 요리를 만들 수 있게 도와주는 밀키트 브랜드, 마이셰프로...</td>\n",
       "    </tr>\n",
       "    <tr>\n",
       "      <th>4</th>\n",
       "      <td>[야스노야 지로] 램바그 (함박)</td>\n",
       "      <td>마켓컬리</td>\n",
       "      <td>웨스턴</td>\n",
       "      <td>야스노야 지로</td>\n",
       "      <td>4425</td>\n",
       "      <td>https://img-cf.kurly.com/shop/data/goods/16318...</td>\n",
       "      <td>https://www.kurly.com/shop/goods/goods_view.ph...</td>\n",
       "      <td>False</td>\n",
       "      <td>함박 스테이크의 고소한 육즙, 램바그로 더욱 특별하게 즐겨 보세요. 삿포로식 징기스...</td>\n",
       "    </tr>\n",
       "  </tbody>\n",
       "</table>\n",
       "</div>"
      ],
      "text/plain": [
       "                           name storeName category       brand  price  \\\n",
       "0  [Everyday] 군산갑오징어 삼겹살볶음 (냉동)      마켓컬리       한식    Everyday  13500   \n",
       "1           [콜린스 다이닝] 뿌리채소 비건만두      마켓컬리       한식     콜린스 다이닝   5100   \n",
       "2    [강민구셰프의 밍글스] 대게장 새우 먹물 파스타      마켓컬리      웨스턴  강민구셰프의 밍글스  12500   \n",
       "3                  [마이셰프] 찹스테이크      마켓컬리      웨스턴        마이셰프  12900   \n",
       "4            [야스노야 지로] 램바그 (함박)      마켓컬리      웨스턴     야스노야 지로   4425   \n",
       "\n",
       "                                        thumbnailUrl  \\\n",
       "0  https://img-cf.kurly.com/shop/data/goods/16270...   \n",
       "1  https://img-cf.kurly.com/shop/data/goods/16246...   \n",
       "2  https://img-cf.kurly.com/shop/data/goods/16203...   \n",
       "3  https://img-cf.kurly.com/shop/data/goods/16149...   \n",
       "4  https://img-cf.kurly.com/shop/data/goods/16318...   \n",
       "\n",
       "                                          contentUrl  isSoldOut  \\\n",
       "0  https://www.kurly.com/shop/goods/goods_view.ph...      False   \n",
       "1  https://www.kurly.com/shop/goods/goods_view.ph...      False   \n",
       "2  https://www.kurly.com/shop/goods/goods_view.ph...      False   \n",
       "3  https://www.kurly.com/shop/goods/goods_view.ph...      False   \n",
       "4  https://www.kurly.com/shop/goods/goods_view.ph...      False   \n",
       "\n",
       "                                              detail  \n",
       "0  오징어와 삼겹살의 만남은 낯설지 않아요. 오삼불고기라는 이름으로 직장인의 점심이나 ...  \n",
       "1  채식을 실천 중인 분들도 맛있게 즐길 수 있는 콜린스 다이닝의 뿌리채소 비건만두를 ...  \n",
       "2  미쉐린 2스타에 빛나는 청담동의 파인다이닝 레스토랑, 강민구 셰프의 밍글스가 색다른...  \n",
       "3  좋은 식재료로 손쉽게 멋진 요리를 만들 수 있게 도와주는 밀키트 브랜드, 마이셰프로...  \n",
       "4  함박 스테이크의 고소한 육즙, 램바그로 더욱 특별하게 즐겨 보세요. 삿포로식 징기스...  "
      ]
     },
     "execution_count": 2,
     "metadata": {},
     "output_type": "execute_result"
    }
   ],
   "source": [
    "info = pd.read_json('../data/마켓컬리재성.json', orient='records')\n",
    "info.head()"
   ]
  },
  {
   "cell_type": "code",
   "execution_count": 9,
   "metadata": {},
   "outputs": [
    {
     "name": "stdout",
     "output_type": "stream",
     "text": [
      "<class 'pandas.core.frame.DataFrame'>\n",
      "RangeIndex: 328 entries, 0 to 327\n",
      "Data columns (total 9 columns):\n",
      " #   Column        Non-Null Count  Dtype \n",
      "---  ------        --------------  ----- \n",
      " 0   name          328 non-null    object\n",
      " 1   storeName     328 non-null    object\n",
      " 2   category      328 non-null    object\n",
      " 3   brand         328 non-null    object\n",
      " 4   price         328 non-null    int64 \n",
      " 5   thumbnailUrl  328 non-null    object\n",
      " 6   contentUrl    328 non-null    object\n",
      " 7   isSoldOut     328 non-null    bool  \n",
      " 8   detail        328 non-null    object\n",
      "dtypes: bool(1), int64(1), object(7)\n",
      "memory usage: 20.9+ KB\n"
     ]
    }
   ],
   "source": [
    "info.info()"
   ]
  },
  {
   "cell_type": "code",
   "execution_count": 11,
   "metadata": {},
   "outputs": [
    {
     "data": {
      "text/html": [
       "<div>\n",
       "<style scoped>\n",
       "    .dataframe tbody tr th:only-of-type {\n",
       "        vertical-align: middle;\n",
       "    }\n",
       "\n",
       "    .dataframe tbody tr th {\n",
       "        vertical-align: top;\n",
       "    }\n",
       "\n",
       "    .dataframe thead th {\n",
       "        text-align: right;\n",
       "    }\n",
       "</style>\n",
       "<table border=\"1\" class=\"dataframe\">\n",
       "  <thead>\n",
       "    <tr style=\"text-align: right;\">\n",
       "      <th></th>\n",
       "      <th>name</th>\n",
       "      <th>storeName</th>\n",
       "      <th>category</th>\n",
       "      <th>brand</th>\n",
       "      <th>price</th>\n",
       "      <th>thumbnailUrl</th>\n",
       "      <th>contentUrl</th>\n",
       "      <th>isSoldOut</th>\n",
       "      <th>detail</th>\n",
       "    </tr>\n",
       "  </thead>\n",
       "  <tbody>\n",
       "  </tbody>\n",
       "</table>\n",
       "</div>"
      ],
      "text/plain": [
       "Empty DataFrame\n",
       "Columns: [name, storeName, category, brand, price, thumbnailUrl, contentUrl, isSoldOut, detail]\n",
       "Index: []"
      ]
     },
     "execution_count": 11,
     "metadata": {},
     "output_type": "execute_result"
    }
   ],
   "source": [
    "info[info.duplicated()]"
   ]
  }
 ],
 "metadata": {
  "interpreter": {
   "hash": "b3ba2566441a7c06988d0923437866b63cedc61552a5af99d1f4fb67d367b25f"
  },
  "kernelspec": {
   "display_name": "Python 3.7.10 64-bit ('base': conda)",
   "name": "python3"
  },
  "language_info": {
   "codemirror_mode": {
    "name": "ipython",
    "version": 3
   },
   "file_extension": ".py",
   "mimetype": "text/x-python",
   "name": "python",
   "nbconvert_exporter": "python",
   "pygments_lexer": "ipython3",
   "version": "3.7.10"
  },
  "orig_nbformat": 4
 },
 "nbformat": 4,
 "nbformat_minor": 2
}
